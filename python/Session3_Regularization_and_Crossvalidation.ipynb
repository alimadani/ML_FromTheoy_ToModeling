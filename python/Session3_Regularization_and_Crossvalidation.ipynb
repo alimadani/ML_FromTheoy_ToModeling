{
  "nbformat": 4,
  "nbformat_minor": 0,
  "metadata": {
    "colab": {
      "name": "Session3 Regularization and Crossvalidation.ipynb",
      "provenance": []
    },
    "kernelspec": {
      "name": "python3",
      "display_name": "Python 3"
    }
  },
  "cells": [
    {
      "cell_type": "markdown",
      "metadata": {
        "id": "p1xaPIBYvzdn"
      },
      "source": [
        "That k-fold cross validation is a procedure used to estimate the skill of the model on new data"
      ]
    },
    {
      "cell_type": "markdown",
      "metadata": {
        "id": "kWY1-mKswU8L"
      },
      "source": [
        "### How split the data in Cross validation\n",
        "\n",
        "\n",
        "\n",
        "*   **k=10:** The value for k is fixed to 10, a value that has been found through experimentation to generally result in a model skill estimate with low bias a modest variance.\n",
        "*   **k=n:** The value for k is fixed to n, where n is the size of the dataset to give each test sample an opportunity to be used in the hold out dataset. This approach is called leave-one-out cross-validation.\n",
        "\n"
      ]
    },
    {
      "cell_type": "code",
      "metadata": {
        "id": "kdARlKyjv145",
        "colab": {
          "base_uri": "https://localhost:8080/"
        },
        "outputId": "04bfa377-6bc6-4c4e-f471-9e3d647799fc"
      },
      "source": [
        "from numpy import array\n",
        "from sklearn.model_selection import KFold\n",
        "from sklearn import datasets\n",
        "\n",
        "\n",
        "# import some data to play with\n",
        "iris = datasets.load_iris()\n",
        "X = iris.data\n",
        "y = iris.target\n",
        "# data sample\n",
        "# prepare cross validation\n",
        "kfold = KFold(5)\n",
        "# enumerate splits\n",
        "for train, test in kfold.split(X):\n",
        "\tprint('train: %s, test: %s' % (len(X[train]), len(X[test])))"
      ],
      "execution_count": null,
      "outputs": [
        {
          "output_type": "stream",
          "text": [
            "train: 120, test: 30\n",
            "train: 120, test: 30\n",
            "train: 120, test: 30\n",
            "train: 120, test: 30\n",
            "train: 120, test: 30\n"
          ],
          "name": "stdout"
        }
      ]
    },
    {
      "cell_type": "code",
      "metadata": {
        "id": "73uXpQsgywQZ",
        "colab": {
          "base_uri": "https://localhost:8080/",
          "height": 67
        },
        "outputId": "05b692cc-dc73-4c72-a87b-01b72af1d6ca"
      },
      "source": [
        "from sklearn.model_selection import cross_val_score\n",
        "from sklearn.neighbors import KNeighborsClassifier\n",
        "knn = KNeighborsClassifier(n_neighbors=2, weights='distance')\n",
        "scores = cross_val_score(knn, X, y, cv=5)\n",
        "print(\"All scores: \\n\" , scores)\n",
        "print(\"Accuracy: %0.2f\" % (scores.mean()))\n"
      ],
      "execution_count": null,
      "outputs": [
        {
          "output_type": "stream",
          "text": [
            "All scores: \n",
            " [0.96666667 0.96666667 0.93333333 0.93333333 1.        ]\n",
            "Accuracy: 0.96\n"
          ],
          "name": "stdout"
        }
      ]
    },
    {
      "cell_type": "code",
      "metadata": {
        "id": "RSH9GpTG3Edt",
        "colab": {
          "base_uri": "https://localhost:8080/"
        },
        "outputId": "fb672a82-89ad-4d94-d864-6edf79695b94"
      },
      "source": [
        "from sklearn import datasets, linear_model\n",
        "from sklearn.model_selection import cross_val_score\n",
        "diabetes = datasets.load_diabetes()\n",
        "X = diabetes.data[:150]\n",
        "y = diabetes.target[:150]\n",
        "lasso = linear_model.Lasso()\n",
        "print(cross_val_score(lasso, X, y, cv=10))\n",
        "scores = cross_val_score(lasso, X, y, cv=10)\n",
        "scores.mean()"
      ],
      "execution_count": null,
      "outputs": [
        {
          "output_type": "stream",
          "text": [
            "[ 0.34557351  0.34848715  0.26654262 -0.01126674  0.24875619  0.08731544\n",
            "  0.13386583  0.14000888  0.2873109   0.00960079]\n"
          ],
          "name": "stdout"
        },
        {
          "output_type": "execute_result",
          "data": {
            "text/plain": [
              "0.18561945693133985"
            ]
          },
          "metadata": {
            "tags": []
          },
          "execution_count": 3
        }
      ]
    },
    {
      "cell_type": "markdown",
      "metadata": {
        "id": "ylVR2Cfh1uhY"
      },
      "source": [
        "## Leave One Out Cross Validation"
      ]
    },
    {
      "cell_type": "code",
      "metadata": {
        "id": "wOfXv2ri1W87",
        "colab": {
          "base_uri": "https://localhost:8080/"
        },
        "outputId": "b19b477a-7c3b-4b89-8b27-b8987692aa34"
      },
      "source": [
        "from sklearn import model_selection\n",
        "from sklearn.neighbors import KNeighborsClassifier\n",
        "iris = datasets.load_iris()\n",
        "X = iris.data\n",
        "y = iris.target\n",
        "num_instances = len(X)\n",
        "loocv = model_selection.LeaveOneOut()\n",
        "model =  KNeighborsClassifier(n_neighbors=3, weights='distance')\n",
        "results = model_selection.cross_val_score(model, X, y, cv=loocv)\n",
        "print(\"Accuracy: %.3f%% (%.3f%%)\" % (results.mean()*100.0, results.std()*100.0))"
      ],
      "execution_count": null,
      "outputs": [
        {
          "output_type": "stream",
          "text": [
            "Accuracy: 96.000% (19.596%)\n"
          ],
          "name": "stdout"
        }
      ]
    },
    {
      "cell_type": "markdown",
      "metadata": {
        "id": "gkEyRmqU2tFJ"
      },
      "source": [
        ""
      ]
    },
    {
      "cell_type": "markdown",
      "metadata": {
        "id": "_lcL5ykKzr8u"
      },
      "source": [
        "Mor info : https://scikit-learn.org/stable/modules/cross_validation.html"
      ]
    },
    {
      "cell_type": "markdown",
      "metadata": {
        "id": "ThGo9WtD5nE6"
      },
      "source": [
        "If you are interested in controlling the L1 and L2 in elasticNet, keep in mind that this is equivalent to:\n",
        "\n",
        "a * L1 + b * L2\n",
        "where:\n",
        "\n",
        "alpha = a + b and l1_ratio = a / (a + b)"
      ]
    },
    {
      "cell_type": "code",
      "metadata": {
        "id": "pSZgknhZy5iv",
        "colab": {
          "base_uri": "https://localhost:8080/",
          "height": 121
        },
        "outputId": "40a964dd-cee3-4ba6-84ca-967eac4891f7"
      },
      "source": [
        "from sklearn.linear_model import LinearRegression\n",
        "from sklearn.linear_model import Lasso\n",
        "from sklearn.linear_model import ElasticNet\n",
        "from sklearn.linear_model import Ridge\n",
        "from sklearn.datasets import load_diabetes\n",
        "diabetes = load_diabetes(return_X_y=False)\n",
        "X = diabetes.data\n",
        "y = diabetes.target\n",
        "regr = ElasticNet(alpha=0.5,l1_ratio=0)\n",
        "regr.fit(X, y)\n",
        "print(regr.coef_)\n",
        "print(regr.intercept_)\n"
      ],
      "execution_count": null,
      "outputs": [
        {
          "output_type": "stream",
          "text": [
            "[ 1.34609381  0.29197299  4.24316806  3.18900352  1.51091268  1.23285023\n",
            " -2.84674258  3.09246071  4.08597678  2.75244681]\n",
            "152.13348416289594\n"
          ],
          "name": "stdout"
        },
        {
          "output_type": "stream",
          "text": [
            "/usr/local/lib/python3.6/dist-packages/sklearn/linear_model/_coordinate_descent.py:476: ConvergenceWarning: Objective did not converge. You might want to increase the number of iterations. Duality gap: 1301991.5464447697, tolerance: 262.1009124434389\n",
            "  positive)\n"
          ],
          "name": "stderr"
        }
      ]
    }
  ]
}