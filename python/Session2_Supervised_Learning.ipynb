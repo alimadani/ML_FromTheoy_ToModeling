{
  "nbformat": 4,
  "nbformat_minor": 0,
  "metadata": {
    "colab": {
      "name": "Session2_Supervised_Learning.ipynb",
      "provenance": []
    },
    "kernelspec": {
      "name": "python3",
      "display_name": "Python 3"
    }
  },
  "cells": [
    {
      "cell_type": "markdown",
      "metadata": {
        "id": "OQTla_oS3O0E"
      },
      "source": [
        "# Step By Step Supervised Learning\n",
        "\n",
        "In this colaboratory notebook, you learn to work with python and machine learning models. and how to step by step develop machine learning project using Python.\n",
        "\n",
        "\n"
      ]
    },
    {
      "cell_type": "markdown",
      "metadata": {
        "id": "857zUnkM5HON"
      },
      "source": [
        "Python Packages\n",
        " learn to load and use  machine learning packages in Python.\n",
        "\n",
        "\n",
        "\n",
        "\n",
        "1.  **numpy**\n",
        "\n",
        "  NumPy is a library for the Python programming language, adding support for large, **multi-dimensional arrays and matrices**, along with a large collection of high-level mathematical functions to operate on these arrays.\n",
        "  \n",
        "2.  **matplotlib**\n",
        "\n",
        "  Matplotlib is a plotting library for the Python programming language and its numerical mathematics extension NumPy. \n",
        "  \n",
        "3.  **pandas**\n",
        "\n",
        "  pandas is an open source library providing high-performance, easy-to-use **data structures** and **data analysis tools** for the Python programming language.\n",
        "  \n",
        "4.  **sklearn**\n",
        "\n",
        "  Scikit-learn (formerly scikits.learn) is a free software machine learning library for the Python programming language.\n",
        "  \n",
        "6.  **scipy**\n",
        "\n",
        "  SciPy is a free and open-source Python library used for scientific computing and technical computing. "
      ]
    },
    {
      "cell_type": "markdown",
      "metadata": {
        "id": "gImLytR89eol"
      },
      "source": [
        "### Import libraries\n",
        "We need to import  all the modules, functions  before using them"
      ]
    },
    {
      "cell_type": "code",
      "metadata": {
        "id": "FbWaB53I5iMP"
      },
      "source": [
        "import numpy as np\n",
        "import matplotlib.pyplot as plt\n",
        "import pandas as pd"
      ],
      "execution_count": null,
      "outputs": []
    },
    {
      "cell_type": "code",
      "metadata": {
        "id": "_caN2j0FoR7y",
        "colab": {
          "base_uri": "https://localhost:8080/"
        },
        "outputId": "2bb09e00-ad34-4887-91d9-50fe6381182a"
      },
      "source": [
        "from google.colab import drive\n",
        "drive.mount('/content/gdrive')"
      ],
      "execution_count": null,
      "outputs": [
        {
          "output_type": "stream",
          "text": [
            "Drive already mounted at /content/gdrive; to attempt to forcibly remount, call drive.mount(\"/content/gdrive\", force_remount=True).\n"
          ],
          "name": "stdout"
        }
      ]
    },
    {
      "cell_type": "markdown",
      "metadata": {
        "id": "823rW-QYofPU"
      },
      "source": [
        "To make sure that every single line will be  printed, even if they're in the same cell, we can use thf ollowing config:"
      ]
    },
    {
      "cell_type": "code",
      "metadata": {
        "id": "H1rVke7zoXxM",
        "colab": {
          "base_uri": "https://localhost:8080/",
          "height": 402
        },
        "outputId": "91983a3a-8c1c-4fdd-aefd-2ed9d096bdde"
      },
      "source": [
        "from IPython.core.interactiveshell import InteractiveShell\n",
        "InteractiveShell.ast_node_interactivity = \"all\"\n",
        "dataset = pd.read_csv('/content/gdrive/My Drive/Colab Notebooks/iris.csv',index_col=0)\n",
        "dataset"
      ],
      "execution_count": null,
      "outputs": [
        {
          "output_type": "execute_result",
          "data": {
            "text/html": [
              "<div>\n",
              "<style scoped>\n",
              "    .dataframe tbody tr th:only-of-type {\n",
              "        vertical-align: middle;\n",
              "    }\n",
              "\n",
              "    .dataframe tbody tr th {\n",
              "        vertical-align: top;\n",
              "    }\n",
              "\n",
              "    .dataframe thead th {\n",
              "        text-align: right;\n",
              "    }\n",
              "</style>\n",
              "<table border=\"1\" class=\"dataframe\">\n",
              "  <thead>\n",
              "    <tr style=\"text-align: right;\">\n",
              "      <th></th>\n",
              "      <th>sepal length (cm)</th>\n",
              "      <th>sepal width (cm)</th>\n",
              "      <th>petal length (cm)</th>\n",
              "      <th>petal width (cm)</th>\n",
              "      <th>target</th>\n",
              "      <th>class</th>\n",
              "    </tr>\n",
              "  </thead>\n",
              "  <tbody>\n",
              "    <tr>\n",
              "      <th>0</th>\n",
              "      <td>5.1</td>\n",
              "      <td>3.5</td>\n",
              "      <td>1.4</td>\n",
              "      <td>0.2</td>\n",
              "      <td>0.0</td>\n",
              "      <td>Iris-setosa</td>\n",
              "    </tr>\n",
              "    <tr>\n",
              "      <th>1</th>\n",
              "      <td>4.9</td>\n",
              "      <td>3.0</td>\n",
              "      <td>1.4</td>\n",
              "      <td>0.2</td>\n",
              "      <td>0.0</td>\n",
              "      <td>Iris-setosa</td>\n",
              "    </tr>\n",
              "    <tr>\n",
              "      <th>2</th>\n",
              "      <td>4.7</td>\n",
              "      <td>3.2</td>\n",
              "      <td>1.3</td>\n",
              "      <td>0.2</td>\n",
              "      <td>0.0</td>\n",
              "      <td>Iris-setosa</td>\n",
              "    </tr>\n",
              "    <tr>\n",
              "      <th>3</th>\n",
              "      <td>4.6</td>\n",
              "      <td>3.1</td>\n",
              "      <td>1.5</td>\n",
              "      <td>0.2</td>\n",
              "      <td>0.0</td>\n",
              "      <td>Iris-setosa</td>\n",
              "    </tr>\n",
              "    <tr>\n",
              "      <th>4</th>\n",
              "      <td>5.0</td>\n",
              "      <td>3.6</td>\n",
              "      <td>1.4</td>\n",
              "      <td>0.2</td>\n",
              "      <td>0.0</td>\n",
              "      <td>Iris-setosa</td>\n",
              "    </tr>\n",
              "    <tr>\n",
              "      <th>...</th>\n",
              "      <td>...</td>\n",
              "      <td>...</td>\n",
              "      <td>...</td>\n",
              "      <td>...</td>\n",
              "      <td>...</td>\n",
              "      <td>...</td>\n",
              "    </tr>\n",
              "    <tr>\n",
              "      <th>145</th>\n",
              "      <td>6.7</td>\n",
              "      <td>3.0</td>\n",
              "      <td>5.2</td>\n",
              "      <td>2.3</td>\n",
              "      <td>2.0</td>\n",
              "      <td>Iris-virginica</td>\n",
              "    </tr>\n",
              "    <tr>\n",
              "      <th>146</th>\n",
              "      <td>6.3</td>\n",
              "      <td>2.5</td>\n",
              "      <td>5.0</td>\n",
              "      <td>1.9</td>\n",
              "      <td>2.0</td>\n",
              "      <td>Iris-virginica</td>\n",
              "    </tr>\n",
              "    <tr>\n",
              "      <th>147</th>\n",
              "      <td>6.5</td>\n",
              "      <td>3.0</td>\n",
              "      <td>5.2</td>\n",
              "      <td>2.0</td>\n",
              "      <td>2.0</td>\n",
              "      <td>Iris-virginica</td>\n",
              "    </tr>\n",
              "    <tr>\n",
              "      <th>148</th>\n",
              "      <td>6.2</td>\n",
              "      <td>3.4</td>\n",
              "      <td>5.4</td>\n",
              "      <td>2.3</td>\n",
              "      <td>2.0</td>\n",
              "      <td>Iris-virginica</td>\n",
              "    </tr>\n",
              "    <tr>\n",
              "      <th>149</th>\n",
              "      <td>5.9</td>\n",
              "      <td>3.0</td>\n",
              "      <td>5.1</td>\n",
              "      <td>1.8</td>\n",
              "      <td>2.0</td>\n",
              "      <td>Iris-virginica</td>\n",
              "    </tr>\n",
              "  </tbody>\n",
              "</table>\n",
              "<p>150 rows × 6 columns</p>\n",
              "</div>"
            ],
            "text/plain": [
              "     sepal length (cm)  sepal width (cm)  ...  target           class\n",
              "0                  5.1               3.5  ...     0.0     Iris-setosa\n",
              "1                  4.9               3.0  ...     0.0     Iris-setosa\n",
              "2                  4.7               3.2  ...     0.0     Iris-setosa\n",
              "3                  4.6               3.1  ...     0.0     Iris-setosa\n",
              "4                  5.0               3.6  ...     0.0     Iris-setosa\n",
              "..                 ...               ...  ...     ...             ...\n",
              "145                6.7               3.0  ...     2.0  Iris-virginica\n",
              "146                6.3               2.5  ...     2.0  Iris-virginica\n",
              "147                6.5               3.0  ...     2.0  Iris-virginica\n",
              "148                6.2               3.4  ...     2.0  Iris-virginica\n",
              "149                5.9               3.0  ...     2.0  Iris-virginica\n",
              "\n",
              "[150 rows x 6 columns]"
            ]
          },
          "metadata": {
            "tags": []
          },
          "execution_count": 5
        }
      ]
    },
    {
      "cell_type": "markdown",
      "metadata": {
        "id": "_-jRmYuU-4ql"
      },
      "source": [
        "### Load Dataset\n",
        "\n",
        "**Iris Data**\n",
        "\n",
        "We want to use some data sets. \n",
        "We get start with the Iris dataset which usually is used to teach the fundamentals of machine learning algorithms.\n",
        "\n",
        "Data set has been used by almost every data science beginner. This data set is the machine learning practitioner’s equivalent of “Hello, World!”.\n",
        "\n",
        "Our goal is to train a machine learning model to correctly predict the flower species from the measured attributes.\n",
        "\n",
        "\n",
        "**species**:\n",
        "\n",
        "*   Iris Setosa\n",
        "*   Iris Versicolor\n",
        "*   Iris Virginica\n",
        "\n",
        "\n",
        "**Variable**\n",
        "\n",
        "Each species of flower is quantified via four numerical attributes, all measured in centimeters:\n",
        "\n",
        "*   Sepal length\n",
        "*   Sepal width\n",
        "*   Petal length\n",
        "*   Petal width\n",
        "\n"
      ]
    },
    {
      "cell_type": "code",
      "metadata": {
        "id": "tFBfkEL5-7MJ",
        "colab": {
          "base_uri": "https://localhost:8080/",
          "height": 402
        },
        "outputId": "0d43afb6-fe57-4f3a-e688-c518411d1ae8"
      },
      "source": [
        "url = \"https://raw.githubusercontent.com/FarnooshKh/Machine-Learning/master/Data/iris.csv\"\n",
        "dataset = pd.read_csv(url,index_col=0)\n",
        "\n",
        "dataset"
      ],
      "execution_count": null,
      "outputs": [
        {
          "output_type": "execute_result",
          "data": {
            "text/html": [
              "<div>\n",
              "<style scoped>\n",
              "    .dataframe tbody tr th:only-of-type {\n",
              "        vertical-align: middle;\n",
              "    }\n",
              "\n",
              "    .dataframe tbody tr th {\n",
              "        vertical-align: top;\n",
              "    }\n",
              "\n",
              "    .dataframe thead th {\n",
              "        text-align: right;\n",
              "    }\n",
              "</style>\n",
              "<table border=\"1\" class=\"dataframe\">\n",
              "  <thead>\n",
              "    <tr style=\"text-align: right;\">\n",
              "      <th></th>\n",
              "      <th>sepal length (cm)</th>\n",
              "      <th>sepal width (cm)</th>\n",
              "      <th>petal length (cm)</th>\n",
              "      <th>petal width (cm)</th>\n",
              "      <th>target</th>\n",
              "      <th>class</th>\n",
              "    </tr>\n",
              "  </thead>\n",
              "  <tbody>\n",
              "    <tr>\n",
              "      <th>0</th>\n",
              "      <td>5.1</td>\n",
              "      <td>3.5</td>\n",
              "      <td>1.4</td>\n",
              "      <td>0.2</td>\n",
              "      <td>0.0</td>\n",
              "      <td>Iris-setosa</td>\n",
              "    </tr>\n",
              "    <tr>\n",
              "      <th>1</th>\n",
              "      <td>4.9</td>\n",
              "      <td>3.0</td>\n",
              "      <td>1.4</td>\n",
              "      <td>0.2</td>\n",
              "      <td>0.0</td>\n",
              "      <td>Iris-setosa</td>\n",
              "    </tr>\n",
              "    <tr>\n",
              "      <th>2</th>\n",
              "      <td>4.7</td>\n",
              "      <td>3.2</td>\n",
              "      <td>1.3</td>\n",
              "      <td>0.2</td>\n",
              "      <td>0.0</td>\n",
              "      <td>Iris-setosa</td>\n",
              "    </tr>\n",
              "    <tr>\n",
              "      <th>3</th>\n",
              "      <td>4.6</td>\n",
              "      <td>3.1</td>\n",
              "      <td>1.5</td>\n",
              "      <td>0.2</td>\n",
              "      <td>0.0</td>\n",
              "      <td>Iris-setosa</td>\n",
              "    </tr>\n",
              "    <tr>\n",
              "      <th>4</th>\n",
              "      <td>5.0</td>\n",
              "      <td>3.6</td>\n",
              "      <td>1.4</td>\n",
              "      <td>0.2</td>\n",
              "      <td>0.0</td>\n",
              "      <td>Iris-setosa</td>\n",
              "    </tr>\n",
              "    <tr>\n",
              "      <th>...</th>\n",
              "      <td>...</td>\n",
              "      <td>...</td>\n",
              "      <td>...</td>\n",
              "      <td>...</td>\n",
              "      <td>...</td>\n",
              "      <td>...</td>\n",
              "    </tr>\n",
              "    <tr>\n",
              "      <th>145</th>\n",
              "      <td>6.7</td>\n",
              "      <td>3.0</td>\n",
              "      <td>5.2</td>\n",
              "      <td>2.3</td>\n",
              "      <td>2.0</td>\n",
              "      <td>Iris-virginica</td>\n",
              "    </tr>\n",
              "    <tr>\n",
              "      <th>146</th>\n",
              "      <td>6.3</td>\n",
              "      <td>2.5</td>\n",
              "      <td>5.0</td>\n",
              "      <td>1.9</td>\n",
              "      <td>2.0</td>\n",
              "      <td>Iris-virginica</td>\n",
              "    </tr>\n",
              "    <tr>\n",
              "      <th>147</th>\n",
              "      <td>6.5</td>\n",
              "      <td>3.0</td>\n",
              "      <td>5.2</td>\n",
              "      <td>2.0</td>\n",
              "      <td>2.0</td>\n",
              "      <td>Iris-virginica</td>\n",
              "    </tr>\n",
              "    <tr>\n",
              "      <th>148</th>\n",
              "      <td>6.2</td>\n",
              "      <td>3.4</td>\n",
              "      <td>5.4</td>\n",
              "      <td>2.3</td>\n",
              "      <td>2.0</td>\n",
              "      <td>Iris-virginica</td>\n",
              "    </tr>\n",
              "    <tr>\n",
              "      <th>149</th>\n",
              "      <td>5.9</td>\n",
              "      <td>3.0</td>\n",
              "      <td>5.1</td>\n",
              "      <td>1.8</td>\n",
              "      <td>2.0</td>\n",
              "      <td>Iris-virginica</td>\n",
              "    </tr>\n",
              "  </tbody>\n",
              "</table>\n",
              "<p>150 rows × 6 columns</p>\n",
              "</div>"
            ],
            "text/plain": [
              "     sepal length (cm)  sepal width (cm)  ...  target           class\n",
              "0                  5.1               3.5  ...     0.0     Iris-setosa\n",
              "1                  4.9               3.0  ...     0.0     Iris-setosa\n",
              "2                  4.7               3.2  ...     0.0     Iris-setosa\n",
              "3                  4.6               3.1  ...     0.0     Iris-setosa\n",
              "4                  5.0               3.6  ...     0.0     Iris-setosa\n",
              "..                 ...               ...  ...     ...             ...\n",
              "145                6.7               3.0  ...     2.0  Iris-virginica\n",
              "146                6.3               2.5  ...     2.0  Iris-virginica\n",
              "147                6.5               3.0  ...     2.0  Iris-virginica\n",
              "148                6.2               3.4  ...     2.0  Iris-virginica\n",
              "149                5.9               3.0  ...     2.0  Iris-virginica\n",
              "\n",
              "[150 rows x 6 columns]"
            ]
          },
          "metadata": {
            "tags": []
          },
          "execution_count": 6
        }
      ]
    },
    {
      "cell_type": "markdown",
      "metadata": {
        "id": "kl9Vc9qXpg5w"
      },
      "source": [
        "### Summarize the Dataset\n",
        "\n",
        "\n",
        "\n",
        "*   Dimensions of the dataset.\n",
        "*   Describtion of the dataset.\n",
        "\n",
        "  Statistical summary of all attributes.\n",
        "  \n",
        "*   Class Distribution\n",
        "\n"
      ]
    },
    {
      "cell_type": "code",
      "metadata": {
        "id": "y3LetoKjpkTc",
        "colab": {
          "base_uri": "https://localhost:8080/"
        },
        "outputId": "2a276536-adbb-4c97-e077-eb9f48b15ad4"
      },
      "source": [
        "# shape\n",
        "print(dataset.shape)\n",
        "iris_data = dataset.iloc[:,:-2]\n",
        "iris_target = dataset['target']\n"
      ],
      "execution_count": null,
      "outputs": [
        {
          "output_type": "stream",
          "text": [
            "(150, 6)\n"
          ],
          "name": "stdout"
        }
      ]
    },
    {
      "cell_type": "markdown",
      "metadata": {
        "id": "nzzNwsom7gRk"
      },
      "source": [
        "**Statistical Summary**"
      ]
    },
    {
      "cell_type": "code",
      "metadata": {
        "id": "3qrwM_QBqd0X",
        "colab": {
          "base_uri": "https://localhost:8080/"
        },
        "outputId": "8af60dd2-8165-4aa7-ff00-ff8c2a5cbc97"
      },
      "source": [
        "# descriptions\n",
        "\n",
        "print(iris_data.describe())"
      ],
      "execution_count": null,
      "outputs": [
        {
          "output_type": "stream",
          "text": [
            "       sepal length (cm)  sepal width (cm)  petal length (cm)  petal width (cm)\n",
            "count         150.000000        150.000000         150.000000        150.000000\n",
            "mean            5.843333          3.057333           3.758000          1.199333\n",
            "std             0.828066          0.435866           1.765298          0.762238\n",
            "min             4.300000          2.000000           1.000000          0.100000\n",
            "25%             5.100000          2.800000           1.600000          0.300000\n",
            "50%             5.800000          3.000000           4.350000          1.300000\n",
            "75%             6.400000          3.300000           5.100000          1.800000\n",
            "max             7.900000          4.400000           6.900000          2.500000\n"
          ],
          "name": "stdout"
        }
      ]
    },
    {
      "cell_type": "code",
      "metadata": {
        "id": "6tmegtr62RTW",
        "colab": {
          "base_uri": "https://localhost:8080/",
          "height": 168
        },
        "outputId": "494d9d2b-673d-4d32-8e81-e55134fbb98f"
      },
      "source": [
        "iris_data.info()"
      ],
      "execution_count": null,
      "outputs": [
        {
          "output_type": "stream",
          "text": [
            "<class 'pandas.core.frame.DataFrame'>\n",
            "Int64Index: 150 entries, 0 to 149\n",
            "Data columns (total 4 columns):\n",
            "sepal length (cm)    150 non-null float64\n",
            "sepal width (cm)     150 non-null float64\n",
            "petal length (cm)    150 non-null float64\n",
            "petal width (cm)     150 non-null float64\n",
            "dtypes: float64(4)\n",
            "memory usage: 5.9 KB\n"
          ],
          "name": "stdout"
        }
      ]
    },
    {
      "cell_type": "code",
      "metadata": {
        "id": "1Q0f0Tu4KTwp",
        "colab": {
          "base_uri": "https://localhost:8080/",
          "height": 314
        },
        "outputId": "19ad90cd-b10d-4669-afa6-54838f6b16a9"
      },
      "source": [
        "# The Pearson correlation or simply “correlation”.\n",
        "# Pearson correlations are suitable only for metric variables \n",
        "# (Because calculations are allowed, we typically analyze them with descriptive statistics)\n",
        "iris_data.corr(method='pearson')\n",
        "iris_data.corr(method='spearman')"
      ],
      "execution_count": null,
      "outputs": [
        {
          "output_type": "execute_result",
          "data": {
            "text/html": [
              "<div>\n",
              "<style scoped>\n",
              "    .dataframe tbody tr th:only-of-type {\n",
              "        vertical-align: middle;\n",
              "    }\n",
              "\n",
              "    .dataframe tbody tr th {\n",
              "        vertical-align: top;\n",
              "    }\n",
              "\n",
              "    .dataframe thead th {\n",
              "        text-align: right;\n",
              "    }\n",
              "</style>\n",
              "<table border=\"1\" class=\"dataframe\">\n",
              "  <thead>\n",
              "    <tr style=\"text-align: right;\">\n",
              "      <th></th>\n",
              "      <th>sepal length (cm)</th>\n",
              "      <th>sepal width (cm)</th>\n",
              "      <th>petal length (cm)</th>\n",
              "      <th>petal width (cm)</th>\n",
              "    </tr>\n",
              "  </thead>\n",
              "  <tbody>\n",
              "    <tr>\n",
              "      <th>sepal length (cm)</th>\n",
              "      <td>1.000000</td>\n",
              "      <td>-0.117570</td>\n",
              "      <td>0.871754</td>\n",
              "      <td>0.817941</td>\n",
              "    </tr>\n",
              "    <tr>\n",
              "      <th>sepal width (cm)</th>\n",
              "      <td>-0.117570</td>\n",
              "      <td>1.000000</td>\n",
              "      <td>-0.428440</td>\n",
              "      <td>-0.366126</td>\n",
              "    </tr>\n",
              "    <tr>\n",
              "      <th>petal length (cm)</th>\n",
              "      <td>0.871754</td>\n",
              "      <td>-0.428440</td>\n",
              "      <td>1.000000</td>\n",
              "      <td>0.962865</td>\n",
              "    </tr>\n",
              "    <tr>\n",
              "      <th>petal width (cm)</th>\n",
              "      <td>0.817941</td>\n",
              "      <td>-0.366126</td>\n",
              "      <td>0.962865</td>\n",
              "      <td>1.000000</td>\n",
              "    </tr>\n",
              "  </tbody>\n",
              "</table>\n",
              "</div>"
            ],
            "text/plain": [
              "                   sepal length (cm)  ...  petal width (cm)\n",
              "sepal length (cm)           1.000000  ...          0.817941\n",
              "sepal width (cm)           -0.117570  ...         -0.366126\n",
              "petal length (cm)           0.871754  ...          0.962865\n",
              "petal width (cm)            0.817941  ...          1.000000\n",
              "\n",
              "[4 rows x 4 columns]"
            ]
          },
          "metadata": {
            "tags": []
          },
          "execution_count": 9
        },
        {
          "output_type": "execute_result",
          "data": {
            "text/html": [
              "<div>\n",
              "<style scoped>\n",
              "    .dataframe tbody tr th:only-of-type {\n",
              "        vertical-align: middle;\n",
              "    }\n",
              "\n",
              "    .dataframe tbody tr th {\n",
              "        vertical-align: top;\n",
              "    }\n",
              "\n",
              "    .dataframe thead th {\n",
              "        text-align: right;\n",
              "    }\n",
              "</style>\n",
              "<table border=\"1\" class=\"dataframe\">\n",
              "  <thead>\n",
              "    <tr style=\"text-align: right;\">\n",
              "      <th></th>\n",
              "      <th>sepal length (cm)</th>\n",
              "      <th>sepal width (cm)</th>\n",
              "      <th>petal length (cm)</th>\n",
              "      <th>petal width (cm)</th>\n",
              "    </tr>\n",
              "  </thead>\n",
              "  <tbody>\n",
              "    <tr>\n",
              "      <th>sepal length (cm)</th>\n",
              "      <td>1.000000</td>\n",
              "      <td>-0.166778</td>\n",
              "      <td>0.881898</td>\n",
              "      <td>0.834289</td>\n",
              "    </tr>\n",
              "    <tr>\n",
              "      <th>sepal width (cm)</th>\n",
              "      <td>-0.166778</td>\n",
              "      <td>1.000000</td>\n",
              "      <td>-0.309635</td>\n",
              "      <td>-0.289032</td>\n",
              "    </tr>\n",
              "    <tr>\n",
              "      <th>petal length (cm)</th>\n",
              "      <td>0.881898</td>\n",
              "      <td>-0.309635</td>\n",
              "      <td>1.000000</td>\n",
              "      <td>0.937667</td>\n",
              "    </tr>\n",
              "    <tr>\n",
              "      <th>petal width (cm)</th>\n",
              "      <td>0.834289</td>\n",
              "      <td>-0.289032</td>\n",
              "      <td>0.937667</td>\n",
              "      <td>1.000000</td>\n",
              "    </tr>\n",
              "  </tbody>\n",
              "</table>\n",
              "</div>"
            ],
            "text/plain": [
              "                   sepal length (cm)  ...  petal width (cm)\n",
              "sepal length (cm)           1.000000  ...          0.834289\n",
              "sepal width (cm)           -0.166778  ...         -0.289032\n",
              "petal length (cm)           0.881898  ...          0.937667\n",
              "petal width (cm)            0.834289  ...          1.000000\n",
              "\n",
              "[4 rows x 4 columns]"
            ]
          },
          "metadata": {
            "tags": []
          },
          "execution_count": 9
        }
      ]
    },
    {
      "cell_type": "code",
      "metadata": {
        "id": "6CNJkZ6F7vWq",
        "colab": {
          "base_uri": "https://localhost:8080/",
          "height": 101
        },
        "outputId": "cc120cfa-ac43-4fcd-c6ad-974cec28b980"
      },
      "source": [
        "# class distribution\n",
        "print(dataset.groupby('class').size())\n",
        "#dataset.groupby('class').describe()"
      ],
      "execution_count": null,
      "outputs": [
        {
          "output_type": "stream",
          "text": [
            "class\n",
            "Iris-setosa        50\n",
            "Iris-versicolor    50\n",
            "Iris-virginica     50\n",
            "dtype: int64\n"
          ],
          "name": "stdout"
        }
      ]
    },
    {
      "cell_type": "code",
      "metadata": {
        "id": "SdIg4KMkI57Z",
        "colab": {
          "base_uri": "https://localhost:8080/",
          "height": 134
        },
        "outputId": "1328c041-fd75-4a47-cff4-685a3b8e5724"
      },
      "source": [
        "# datatype\n",
        "dataset.dtypes"
      ],
      "execution_count": null,
      "outputs": [
        {
          "output_type": "execute_result",
          "data": {
            "text/plain": [
              "sepal length (cm)    float64\n",
              "sepal width (cm)     float64\n",
              "petal length (cm)    float64\n",
              "petal width (cm)     float64\n",
              "target               float64\n",
              "class                 object\n",
              "dtype: object"
            ]
          },
          "metadata": {
            "tags": []
          },
          "execution_count": 10
        }
      ]
    },
    {
      "cell_type": "markdown",
      "metadata": {
        "id": "FB03nh89Dpuk"
      },
      "source": [
        "### Data Visualization"
      ]
    },
    {
      "cell_type": "markdown",
      "metadata": {
        "id": "daAqVT55L08U"
      },
      "source": [
        "\n",
        "\n",
        "\n",
        "\n",
        "*   Univariate plots \n",
        "\n",
        "  Better understanding of each attribute.\n",
        "\n",
        "  Plots of each individual variable.\n",
        "  \n",
        "  This gives us a much clearer idea of the distribution of the input attributes. For example if variable have Gaussian distribution then we can choose algorithms that use this assumption.\n",
        "   \n",
        "*   Multivariate plots \n",
        "\n",
        "  Better understand the relationships between attributes.\n",
        "  \n",
        "  Interactions between the variables.\n",
        "  \n",
        "  Correlation between variables\n",
        "\n",
        "\n",
        "\n",
        "\n",
        "\n",
        "\n"
      ]
    },
    {
      "cell_type": "code",
      "metadata": {
        "id": "2M1SRxU78UzJ",
        "colab": {
          "base_uri": "https://localhost:8080/",
          "height": 353
        },
        "outputId": "ef47cd48-79b2-41d1-9b66-f5194ecbf04a"
      },
      "source": [
        "# two different ways of plots \n",
        "#dataset.iloc[:,:-2].hist(bins=20,figsize=(9,7),grid=False)\n",
        "iris_data.plot(kind='hist', subplots=True, layout=(2,2), sharex=False, sharey=False)\n",
        "plt.show()"
      ],
      "execution_count": null,
      "outputs": [
        {
          "output_type": "execute_result",
          "data": {
            "text/plain": [
              "array([[<matplotlib.axes._subplots.AxesSubplot object at 0x7f95faebdb38>,\n",
              "        <matplotlib.axes._subplots.AxesSubplot object at 0x7f95fae17e10>],\n",
              "       [<matplotlib.axes._subplots.AxesSubplot object at 0x7f95fae680b8>,\n",
              "        <matplotlib.axes._subplots.AxesSubplot object at 0x7f95fadf8630>]],\n",
              "      dtype=object)"
            ]
          },
          "metadata": {
            "tags": []
          },
          "execution_count": 10
        },
        {
          "output_type": "display_data",
          "data": {
            "image/png": "[encoded data removed]",
            "text/plain": [
              "<Figure size 432x288 with 4 Axes>"
            ]
          },
          "metadata": {
            "tags": [],
            "needs_background": "light"
          }
        }
      ]
    },
    {
      "cell_type": "code",
      "metadata": {
        "id": "OaGAjb0Z8Xkm",
        "colab": {
          "base_uri": "https://localhost:8080/",
          "height": 351
        },
        "outputId": "67d4472a-3299-4ed7-81c9-43cd4b2203d0"
      },
      "source": [
        "iris_data.plot(kind='box', subplots=True, layout=(2,2), sharex=False, sharey=False)\n",
        "plt.show()\n"
      ],
      "execution_count": null,
      "outputs": [
        {
          "output_type": "execute_result",
          "data": {
            "text/plain": [
              "sepal length (cm)       AxesSubplot(0.125,0.536818;0.352273x0.343182)\n",
              "sepal width (cm)     AxesSubplot(0.547727,0.536818;0.352273x0.343182)\n",
              "petal length (cm)          AxesSubplot(0.125,0.125;0.352273x0.343182)\n",
              "petal width (cm)        AxesSubplot(0.547727,0.125;0.352273x0.343182)\n",
              "dtype: object"
            ]
          },
          "metadata": {
            "tags": []
          },
          "execution_count": 11
        },
        {
          "output_type": "display_data",
          "data": {
            "image/png": "[encoded data removed]",
            "text/plain": [
              "<Figure size 432x288 with 4 Axes>"
            ]
          },
          "metadata": {
            "tags": [],
            "needs_background": "light"
          }
        }
      ]
    },
    {
      "cell_type": "code",
      "metadata": {
        "id": "2rShZy5BLlng",
        "colab": {
          "base_uri": "https://localhost:8080/",
          "height": 743
        },
        "outputId": "48ecba28-fae0-4867-b856-ac272ad51752"
      },
      "source": [
        "from pandas.plotting import scatter_matrix\n",
        "import seaborn as sns\n",
        "\n",
        "sns.pairplot(dataset.drop(\"target\", axis=1), kind=\"scatter\", hue=\"class\")\n",
        "plt.show()\n"
      ],
      "execution_count": null,
      "outputs": [
        {
          "output_type": "execute_result",
          "data": {
            "text/plain": [
              "<seaborn.axisgrid.PairGrid at 0x7f95fa6fe358>"
            ]
          },
          "metadata": {
            "tags": []
          },
          "execution_count": 12
        },
        {
          "output_type": "display_data",
          "data": {
            "image/png": "[encoded data removed]",
            "text/plain": [
              "<Figure size 823.25x720 with 20 Axes>"
            ]
          },
          "metadata": {
            "tags": [],
            "needs_background": "light"
          }
        }
      ]
    },
    {
      "cell_type": "markdown",
      "metadata": {
        "id": "2VUpvRFbvsm2"
      },
      "source": [
        "## Building classification models\n",
        "Among the available classification methods in Python, we focus on the following five to build classification models of tissue type of the cancer cell lines in our dataset:\n",
        "\n",
        "*   **K- nearest neighbour**\n",
        "*   Logistic regression\n",
        "*   Naive Bayes\n",
        "*   Random forest\n",
        "\n",
        "\n"
      ]
    },
    {
      "cell_type": "markdown",
      "metadata": {
        "id": "Tcjuf63LLERE"
      },
      "source": [
        "### Splitting data to training and testing sets\n",
        "\n",
        "If we use one of our labeled fruit examples in the data that we use to train the classifier, we can't also use that same irish data as a test sample to also evaluate the classifier.\n",
        "\n",
        "The machine learning Algorithm needs to work well on any input sample (Training Set), any new pieces of data that we might see in the future(Test Set).\n",
        "\n",
        "\n",
        "\n",
        "To investigate performance of our model, we need to split the data to training and testing sets(validation set). This will help us to check potential overfitting in our model training.\n",
        "\n",
        "**random_state** as the name suggests, is used for initializing the internal random number generator, which will decide the splitting of data into train and test indices in your case."
      ]
    },
    {
      "cell_type": "code",
      "metadata": {
        "id": "fuPez5sILHne"
      },
      "source": [
        "from sklearn.model_selection import train_test_split\n",
        "\n",
        "X_train, X_test, y_train, y_test = train_test_split(iris_data, dataset['class'], test_size=0.30, random_state=5)\n"
      ],
      "execution_count": null,
      "outputs": []
    },
    {
      "cell_type": "code",
      "metadata": {
        "id": "Erm_hL66Q5pI",
        "colab": {
          "base_uri": "https://localhost:8080/"
        },
        "outputId": "553cd983-2c98-4f37-c230-7898f68edf4c"
      },
      "source": [
        "print(f'train: {X_train.size}')\n",
        "print(f'test: {X_test.size}')"
      ],
      "execution_count": null,
      "outputs": [
        {
          "output_type": "stream",
          "text": [
            "train: 420\n",
            "test: 180\n"
          ],
          "name": "stdout"
        }
      ]
    },
    {
      "cell_type": "markdown",
      "metadata": {
        "id": "RXJQ0SgBRlF7"
      },
      "source": [
        "## K nearest neighbour(KNN)\n",
        "K nearest neighbour uses a distance metric like Euclidean distance to identity similarity of target data point (sample) in test or validation set to the data points (samples) in the trainign set. Then based on the user specified k, it finds the k closest points (samples) to the target data point. Afterward, it chooses the most frequent label among the k closes points (majority voting) as the class label of the target sample. The class labels can be also assigned based on weighted voting of the k closest data points to the data point."
      ]
    },
    {
      "cell_type": "code",
      "metadata": {
        "id": "opESR8PXQ7RW",
        "colab": {
          "base_uri": "https://localhost:8080/"
        },
        "outputId": "df6be790-fdbd-4fc2-b17d-0d6ae92ec68f"
      },
      "source": [
        "from sklearn.neighbors import KNeighborsClassifier\n",
        "\n",
        "# Initialize our classifier, weight(\"uniform\")\n",
        "knn = KNeighborsClassifier(n_neighbors=2, weights='distance')\n",
        "\n",
        "# Fitting the model with the data\n",
        "knn.fit(X_train, y_train)"
      ],
      "execution_count": null,
      "outputs": [
        {
          "output_type": "execute_result",
          "data": {
            "text/plain": [
              "KNeighborsClassifier(algorithm='auto', leaf_size=30, metric='minkowski',\n",
              "                     metric_params=None, n_jobs=None, n_neighbors=2, p=2,\n",
              "                     weights='distance')"
            ]
          },
          "metadata": {
            "tags": []
          },
          "execution_count": 17
        }
      ]
    },
    {
      "cell_type": "code",
      "metadata": {
        "id": "5XWwSRM6R105",
        "colab": {
          "base_uri": "https://localhost:8080/"
        },
        "outputId": "c3283a21-7883-42b1-f58d-8cbca13bd0e3"
      },
      "source": [
        "y_pred = knn.predict(X_test)\n",
        "print(y_pred)\n",
        "print(y_test.values)\n"
      ],
      "execution_count": null,
      "outputs": [
        {
          "output_type": "stream",
          "text": [
            "['Iris-versicolor' 'Iris-virginica' 'Iris-virginica' 'Iris-setosa'\n",
            " 'Iris-virginica' 'Iris-versicolor' 'Iris-setosa' 'Iris-virginica'\n",
            " 'Iris-setosa' 'Iris-versicolor' 'Iris-versicolor' 'Iris-versicolor'\n",
            " 'Iris-virginica' 'Iris-virginica' 'Iris-setosa' 'Iris-setosa'\n",
            " 'Iris-virginica' 'Iris-virginica' 'Iris-setosa' 'Iris-setosa'\n",
            " 'Iris-versicolor' 'Iris-virginica' 'Iris-setosa' 'Iris-virginica'\n",
            " 'Iris-versicolor' 'Iris-virginica' 'Iris-versicolor' 'Iris-versicolor'\n",
            " 'Iris-versicolor' 'Iris-virginica' 'Iris-setosa' 'Iris-versicolor'\n",
            " 'Iris-versicolor' 'Iris-setosa' 'Iris-versicolor' 'Iris-setosa'\n",
            " 'Iris-setosa' 'Iris-virginica' 'Iris-setosa' 'Iris-virginica'\n",
            " 'Iris-virginica' 'Iris-versicolor' 'Iris-setosa' 'Iris-setosa'\n",
            " 'Iris-versicolor']\n",
            "['Iris-versicolor' 'Iris-virginica' 'Iris-virginica' 'Iris-setosa'\n",
            " 'Iris-virginica' 'Iris-versicolor' 'Iris-setosa' 'Iris-versicolor'\n",
            " 'Iris-setosa' 'Iris-versicolor' 'Iris-versicolor' 'Iris-virginica'\n",
            " 'Iris-virginica' 'Iris-virginica' 'Iris-setosa' 'Iris-setosa'\n",
            " 'Iris-virginica' 'Iris-virginica' 'Iris-setosa' 'Iris-setosa'\n",
            " 'Iris-versicolor' 'Iris-virginica' 'Iris-setosa' 'Iris-versicolor'\n",
            " 'Iris-versicolor' 'Iris-virginica' 'Iris-versicolor' 'Iris-versicolor'\n",
            " 'Iris-versicolor' 'Iris-virginica' 'Iris-setosa' 'Iris-versicolor'\n",
            " 'Iris-versicolor' 'Iris-setosa' 'Iris-versicolor' 'Iris-setosa'\n",
            " 'Iris-setosa' 'Iris-virginica' 'Iris-setosa' 'Iris-virginica'\n",
            " 'Iris-virginica' 'Iris-versicolor' 'Iris-setosa' 'Iris-setosa'\n",
            " 'Iris-versicolor']\n"
          ],
          "name": "stdout"
        }
      ]
    },
    {
      "cell_type": "markdown",
      "metadata": {
        "id": "s5wtdouySo0B"
      },
      "source": [
        "## Performance measure\n",
        "\n",
        "To assess performance of the machine learning model, we can use the following measure of the performance of the model:\n",
        "\n",
        "\n",
        "\n",
        "* **precision** is also referred to as positive predictive value (PPV)\n",
        "\n",
        "How many selected item are relevant\n",
        "\n",
        "$${\\displaystyle {\\text{Precision}}=\\text{True positive rate} = {\\frac {tp}{tp+fp}}\\,}$$\n",
        "\n",
        "* **Recall** in this context is also referred to as the true positive rate or sensitivity\n",
        "\n",
        "How many relevant item are selected\n",
        "\n",
        "\n",
        "\n",
        "\n",
        "$${\\displaystyle {\\text{Recall}}={\\frac {tp}{tp+fn}}\\,} $$\n",
        "\n",
        " \n",
        "\n",
        "* **specificity** True negative rate\n",
        "\n",
        "\n",
        "\n",
        "$${\\displaystyle {\\text{True negative rate}}={\\frac {tn}{tn+fp}}\\,}$$\n",
        "\n",
        "* **Accuracy**: This measure gives you a sense of performance for all the classes together as follows:\n",
        "\n",
        "$$ {\\displaystyle {\\text{Accuracy}}={\\frac {tp+tn}{tp+tn+fp+fn}}\\,}$$\n",
        "\n",
        "\n",
        "\\begin{equation*} Accuracy=\\frac{Number\\:of\\:correct\\:predictions}{(Total\\:number\\:of\\:data\\:points (samples))} \\end{equation*}\n",
        "\n",
        "$${\\displaystyle {\\text{Balanced Accuracy}}={\\frac {Recall+Specificity\n",
        "}{2}}\\,}$$\n",
        "\n",
        "* **Confusion matrix (or error matrix)**: True and false classification of the samples in all the classes can be shown in a matrix which is called confusion (or error) matrix. The columns are usually considered as the predicted classes and rows as actual classes. Hence, the diagonal elements of the matrix will be the total number of true classifcation in each class. \n"
      ]
    },
    {
      "cell_type": "code",
      "metadata": {
        "id": "TT10jmXASEW0",
        "colab": {
          "base_uri": "https://localhost:8080/"
        },
        "outputId": "3278b76f-a100-4519-d290-900479f80c5c"
      },
      "source": [
        "from sklearn import metrics\n",
        "\n",
        "print(\"Confusion matrix of the predictions:\\n\", metrics.confusion_matrix(y_test, y_pred))\n",
        "\n",
        "print(\"accuracy of the predictions:\", metrics.accuracy_score(y_test, y_pred))\n",
        "print(\"precision\", metrics.precision_score(y_test, y_pred, average=None))\n"
      ],
      "execution_count": null,
      "outputs": [
        {
          "output_type": "stream",
          "text": [
            "Confusion matrix of the predictions:\n",
            " [[15  0  0]\n",
            " [ 0 14  2]\n",
            " [ 0  1 13]]\n",
            "accuracy of the predictions: 0.9333333333333333\n",
            "precision [1.         0.93333333 0.86666667]\n"
          ],
          "name": "stdout"
        }
      ]
    },
    {
      "cell_type": "code",
      "metadata": {
        "id": "Ff_8H-hb065r",
        "colab": {
          "base_uri": "https://localhost:8080/"
        },
        "outputId": "7822e737-03c0-4715-8cfd-bc31db8dee28"
      },
      "source": [
        "print(\"accuracy of the predictions:\", metrics.accuracy_score(y_test, y_pred))\n",
        "print(\"blanced accuracy of the predictions:\", metrics.balanced_accuracy_score(y_test, y_pred))\n",
        "print(\"MCC of the predictions:\", metrics.matthews_corrcoef(y_test, y_pred))\n",
        "print(\"Confusion matrix of the predictions:\", metrics.confusion_matrix(y_test, y_pred))"
      ],
      "execution_count": null,
      "outputs": [
        {
          "output_type": "stream",
          "text": [
            "accuracy of the predictions: 0.9333333333333333\n",
            "blanced accuracy of the predictions: 0.9345238095238096\n",
            "MCC of the predictions: 0.9006674083230892\n",
            "Confusion matrix of the predictions: [[15  0  0]\n",
            " [ 0 14  2]\n",
            " [ 0  1 13]]\n"
          ],
          "name": "stdout"
        }
      ]
    },
    {
      "cell_type": "code",
      "metadata": {
        "id": "Zjli08Uk-RhY",
        "colab": {
          "base_uri": "https://localhost:8080/",
          "height": 314
        },
        "outputId": "d61a197f-6b74-4886-bbde-4c7e3a2c5dd3"
      },
      "source": [
        "\n",
        "\n",
        "from sklearn.metrics import confusion_matrix\n",
        "from sklearn.utils.multiclass import unique_labels\n",
        "\n",
        "\n",
        "def plot_confusion_matrix(y_true, y_pred, classes,\n",
        "                          title=None,\n",
        "                          cmap=plt.cm.Blues):\n",
        " \n",
        "    # Compute confusion matrix\n",
        "    cm = confusion_matrix(y_true, y_pred)\n",
        "\n",
        "    fig, ax = plt.subplots()\n",
        "    im = ax.imshow(cm, interpolation='nearest', cmap=cmap)\n",
        "    ax.figure.colorbar(im, ax=ax)\n",
        "    # We want to show all ticks...\n",
        "    ax.set(xticks=np.arange(cm.shape[1]),\n",
        "           yticks=np.arange(cm.shape[0]),\n",
        "           # ... and label them with the respective list entries\n",
        "           xticklabels=classes, yticklabels=classes,\n",
        "           title=title,\n",
        "           ylabel='True label',\n",
        "           xlabel='Predicted label')\n",
        "\n",
        "    # Rotate the tick labels and set their alignment.\n",
        "    plt.setp(ax.get_xticklabels(), rotation=45, ha=\"right\",\n",
        "             rotation_mode=\"anchor\")\n",
        "\n",
        "    # Loop over data dimensions and create text annotations.\n",
        "    fmt = 'd'\n",
        "    thresh = cm.max() / 2.\n",
        "    for i in range(cm.shape[0]):\n",
        "        for j in range(cm.shape[1]):\n",
        "            ax.text(j, i, format(cm[i, j], fmt),\n",
        "                    ha=\"center\", va=\"center\",\n",
        "                    color=\"white\" if cm[i, j] > thresh else \"black\")\n",
        "    fig.tight_layout()\n",
        "    return ax\n",
        "\n",
        "\n",
        "\n",
        "# Plot non-normalized confusion matrix\n",
        "plot_confusion_matrix(y_test, y_pred, classes= dataset['class'].unique(),\n",
        "                      title='Confusion matrix')\n",
        "\n",
        "plt.show()\n"
      ],
      "execution_count": null,
      "outputs": [
        {
          "output_type": "execute_result",
          "data": {
            "text/plain": [
              "<matplotlib.axes._subplots.AxesSubplot at 0x7f95e6b1ae48>"
            ]
          },
          "metadata": {
            "tags": []
          },
          "execution_count": 21
        },
        {
          "output_type": "display_data",
          "data": {
            "image/png": "[encoded data removed]",
            "text/plain": [
              "<Figure size 432x288 with 2 Axes>"
            ]
          },
          "metadata": {
            "tags": [],
            "needs_background": "light"
          }
        }
      ]
    },
    {
      "cell_type": "code",
      "metadata": {
        "id": "WOQA6HIJSy2f",
        "colab": {
          "base_uri": "https://localhost:8080/",
          "height": 987
        },
        "outputId": "161e45c0-958d-463e-82b2-8e38b70522f1"
      },
      "source": [
        "k_range = list(range(1,20))\n",
        "scores = []\n",
        "for k in k_range:\n",
        "    knn = KNeighborsClassifier(n_neighbors=k)\n",
        "    knn.fit(X_train, y_train)\n",
        "    y_pred = knn.predict(X_test)\n",
        "    scores.append(metrics.accuracy_score(y_test, y_pred))\n",
        "    \n",
        "plt.plot(k_range, scores)\n",
        "plt.xlabel('Value of k for KNN')\n",
        "plt.ylabel('Accuracy Score')\n",
        "plt.title('Accuracy Scores for Values of k of k-Nearest-Neighbors')\n",
        "plt.show()"
      ],
      "execution_count": null,
      "outputs": [
        {
          "output_type": "execute_result",
          "data": {
            "text/plain": [
              "KNeighborsClassifier(algorithm='auto', leaf_size=30, metric='minkowski',\n",
              "                     metric_params=None, n_jobs=None, n_neighbors=1, p=2,\n",
              "                     weights='uniform')"
            ]
          },
          "metadata": {
            "tags": []
          },
          "execution_count": 22
        },
        {
          "output_type": "execute_result",
          "data": {
            "text/plain": [
              "KNeighborsClassifier(algorithm='auto', leaf_size=30, metric='minkowski',\n",
              "                     metric_params=None, n_jobs=None, n_neighbors=2, p=2,\n",
              "                     weights='uniform')"
            ]
          },
          "metadata": {
            "tags": []
          },
          "execution_count": 22
        },
        {
          "output_type": "execute_result",
          "data": {
            "text/plain": [
              "KNeighborsClassifier(algorithm='auto', leaf_size=30, metric='minkowski',\n",
              "                     metric_params=None, n_jobs=None, n_neighbors=3, p=2,\n",
              "                     weights='uniform')"
            ]
          },
          "metadata": {
            "tags": []
          },
          "execution_count": 22
        },
        {
          "output_type": "execute_result",
          "data": {
            "text/plain": [
              "KNeighborsClassifier(algorithm='auto', leaf_size=30, metric='minkowski',\n",
              "                     metric_params=None, n_jobs=None, n_neighbors=4, p=2,\n",
              "                     weights='uniform')"
            ]
          },
          "metadata": {
            "tags": []
          },
          "execution_count": 22
        },
        {
          "output_type": "execute_result",
          "data": {
            "text/plain": [
              "KNeighborsClassifier(algorithm='auto', leaf_size=30, metric='minkowski',\n",
              "                     metric_params=None, n_jobs=None, n_neighbors=5, p=2,\n",
              "                     weights='uniform')"
            ]
          },
          "metadata": {
            "tags": []
          },
          "execution_count": 22
        },
        {
          "output_type": "execute_result",
          "data": {
            "text/plain": [
              "KNeighborsClassifier(algorithm='auto', leaf_size=30, metric='minkowski',\n",
              "                     metric_params=None, n_jobs=None, n_neighbors=6, p=2,\n",
              "                     weights='uniform')"
            ]
          },
          "metadata": {
            "tags": []
          },
          "execution_count": 22
        },
        {
          "output_type": "execute_result",
          "data": {
            "text/plain": [
              "KNeighborsClassifier(algorithm='auto', leaf_size=30, metric='minkowski',\n",
              "                     metric_params=None, n_jobs=None, n_neighbors=7, p=2,\n",
              "                     weights='uniform')"
            ]
          },
          "metadata": {
            "tags": []
          },
          "execution_count": 22
        },
        {
          "output_type": "execute_result",
          "data": {
            "text/plain": [
              "KNeighborsClassifier(algorithm='auto', leaf_size=30, metric='minkowski',\n",
              "                     metric_params=None, n_jobs=None, n_neighbors=8, p=2,\n",
              "                     weights='uniform')"
            ]
          },
          "metadata": {
            "tags": []
          },
          "execution_count": 22
        },
        {
          "output_type": "execute_result",
          "data": {
            "text/plain": [
              "KNeighborsClassifier(algorithm='auto', leaf_size=30, metric='minkowski',\n",
              "                     metric_params=None, n_jobs=None, n_neighbors=9, p=2,\n",
              "                     weights='uniform')"
            ]
          },
          "metadata": {
            "tags": []
          },
          "execution_count": 22
        },
        {
          "output_type": "execute_result",
          "data": {
            "text/plain": [
              "KNeighborsClassifier(algorithm='auto', leaf_size=30, metric='minkowski',\n",
              "                     metric_params=None, n_jobs=None, n_neighbors=10, p=2,\n",
              "                     weights='uniform')"
            ]
          },
          "metadata": {
            "tags": []
          },
          "execution_count": 22
        },
        {
          "output_type": "execute_result",
          "data": {
            "text/plain": [
              "KNeighborsClassifier(algorithm='auto', leaf_size=30, metric='minkowski',\n",
              "                     metric_params=None, n_jobs=None, n_neighbors=11, p=2,\n",
              "                     weights='uniform')"
            ]
          },
          "metadata": {
            "tags": []
          },
          "execution_count": 22
        },
        {
          "output_type": "execute_result",
          "data": {
            "text/plain": [
              "KNeighborsClassifier(algorithm='auto', leaf_size=30, metric='minkowski',\n",
              "                     metric_params=None, n_jobs=None, n_neighbors=12, p=2,\n",
              "                     weights='uniform')"
            ]
          },
          "metadata": {
            "tags": []
          },
          "execution_count": 22
        },
        {
          "output_type": "execute_result",
          "data": {
            "text/plain": [
              "KNeighborsClassifier(algorithm='auto', leaf_size=30, metric='minkowski',\n",
              "                     metric_params=None, n_jobs=None, n_neighbors=13, p=2,\n",
              "                     weights='uniform')"
            ]
          },
          "metadata": {
            "tags": []
          },
          "execution_count": 22
        },
        {
          "output_type": "execute_result",
          "data": {
            "text/plain": [
              "KNeighborsClassifier(algorithm='auto', leaf_size=30, metric='minkowski',\n",
              "                     metric_params=None, n_jobs=None, n_neighbors=14, p=2,\n",
              "                     weights='uniform')"
            ]
          },
          "metadata": {
            "tags": []
          },
          "execution_count": 22
        },
        {
          "output_type": "execute_result",
          "data": {
            "text/plain": [
              "KNeighborsClassifier(algorithm='auto', leaf_size=30, metric='minkowski',\n",
              "                     metric_params=None, n_jobs=None, n_neighbors=15, p=2,\n",
              "                     weights='uniform')"
            ]
          },
          "metadata": {
            "tags": []
          },
          "execution_count": 22
        },
        {
          "output_type": "execute_result",
          "data": {
            "text/plain": [
              "KNeighborsClassifier(algorithm='auto', leaf_size=30, metric='minkowski',\n",
              "                     metric_params=None, n_jobs=None, n_neighbors=16, p=2,\n",
              "                     weights='uniform')"
            ]
          },
          "metadata": {
            "tags": []
          },
          "execution_count": 22
        },
        {
          "output_type": "execute_result",
          "data": {
            "text/plain": [
              "KNeighborsClassifier(algorithm='auto', leaf_size=30, metric='minkowski',\n",
              "                     metric_params=None, n_jobs=None, n_neighbors=17, p=2,\n",
              "                     weights='uniform')"
            ]
          },
          "metadata": {
            "tags": []
          },
          "execution_count": 22
        },
        {
          "output_type": "execute_result",
          "data": {
            "text/plain": [
              "KNeighborsClassifier(algorithm='auto', leaf_size=30, metric='minkowski',\n",
              "                     metric_params=None, n_jobs=None, n_neighbors=18, p=2,\n",
              "                     weights='uniform')"
            ]
          },
          "metadata": {
            "tags": []
          },
          "execution_count": 22
        },
        {
          "output_type": "execute_result",
          "data": {
            "text/plain": [
              "KNeighborsClassifier(algorithm='auto', leaf_size=30, metric='minkowski',\n",
              "                     metric_params=None, n_jobs=None, n_neighbors=19, p=2,\n",
              "                     weights='uniform')"
            ]
          },
          "metadata": {
            "tags": []
          },
          "execution_count": 22
        },
        {
          "output_type": "execute_result",
          "data": {
            "text/plain": [
              "[<matplotlib.lines.Line2D at 0x7f95e6a6bf98>]"
            ]
          },
          "metadata": {
            "tags": []
          },
          "execution_count": 22
        },
        {
          "output_type": "execute_result",
          "data": {
            "text/plain": [
              "Text(0.5, 0, 'Value of k for KNN')"
            ]
          },
          "metadata": {
            "tags": []
          },
          "execution_count": 22
        },
        {
          "output_type": "execute_result",
          "data": {
            "text/plain": [
              "Text(0, 0.5, 'Accuracy Score')"
            ]
          },
          "metadata": {
            "tags": []
          },
          "execution_count": 22
        },
        {
          "output_type": "execute_result",
          "data": {
            "text/plain": [
              "Text(0.5, 1.0, 'Accuracy Scores for Values of k of k-Nearest-Neighbors')"
            ]
          },
          "metadata": {
            "tags": []
          },
          "execution_count": 22
        },
        {
          "output_type": "display_data",
          "data": {
            "image/png": "[encoded data removed]",
            "text/plain": [
              "<Figure size 432x288 with 1 Axes>"
            ]
          },
          "metadata": {
            "tags": [],
            "needs_background": "light"
          }
        }
      ]
    },
    {
      "cell_type": "code",
      "metadata": {
        "id": "UvLZ4BLOZS1x",
        "colab": {
          "base_uri": "https://localhost:8080/",
          "height": 733
        },
        "outputId": "e3b54175-1193-46b7-9318-34cf281bf424"
      },
      "source": [
        "\n",
        "import numpy as np\n",
        "import matplotlib.pyplot as plt\n",
        "from matplotlib.colors import ListedColormap\n",
        "from sklearn import neighbors, datasets\n",
        "\n",
        "n_neighbors = 3\n",
        "\n",
        "# import some data to play with\n",
        "iris = datasets.load_iris()\n",
        "\n",
        "# we only take the first two features. We could avoid this ugly\n",
        "# slicing by using a two-dim dataset\n",
        "X = iris.data[:, :2]\n",
        "y = iris.target\n",
        "\n",
        "h = .02  # step size in the mesh\n",
        "\n",
        "# Create color maps\n",
        "cmap_light = ListedColormap(['#FFAAAA', '#AAFFAA', '#AAAAFF'])\n",
        "cmap_bold = ListedColormap(['#FF0000', '#00FF00', '#0000FF'])\n",
        "\n",
        "for weights in ['uniform', 'distance']:\n",
        "    # we create an instance of Neighbours Classifier and fit the data.\n",
        "    clf = neighbors.KNeighborsClassifier(n_neighbors, weights=weights)\n",
        "    clf.fit(X, y)\n",
        "\n",
        "    # Plot the decision boundary. For that, we will assign a color to each\n",
        "    # point in the mesh [x_min, x_max]x[y_min, y_max].\n",
        "    x_min, x_max = X[:, 0].min() - 1, X[:, 0].max() + 1\n",
        "    y_min, y_max = X[:, 1].min() - 1, X[:, 1].max() + 1\n",
        "    xx, yy = np.meshgrid(np.arange(x_min, x_max, h),\n",
        "                         np.arange(y_min, y_max, h))\n",
        "    Z = clf.predict(np.c_[xx.ravel(), yy.ravel()])\n",
        "\n",
        "    # Put the result into a color plot\n",
        "    Z = Z.reshape(xx.shape)\n",
        "    plt.figure()\n",
        "    plt.pcolormesh(xx, yy, Z, cmap=cmap_light)\n",
        "\n",
        "    # Plot also the training points\n",
        "    plt.scatter(X[:, 0], X[:, 1], c=y, cmap=cmap_bold,\n",
        "                edgecolor='k', s=20)\n",
        "    plt.xlim(xx.min(), xx.max())\n",
        "    plt.ylim(yy.min(), yy.max())\n",
        "    plt.title(\"3-Class classification (k = %i, weights = '%s')\"\n",
        "              % (n_neighbors, weights))\n",
        "\n",
        "plt.show()"
      ],
      "execution_count": null,
      "outputs": [
        {
          "output_type": "execute_result",
          "data": {
            "text/plain": [
              "KNeighborsClassifier(algorithm='auto', leaf_size=30, metric='minkowski',\n",
              "                     metric_params=None, n_jobs=None, n_neighbors=3, p=2,\n",
              "                     weights='uniform')"
            ]
          },
          "metadata": {
            "tags": []
          },
          "execution_count": 23
        },
        {
          "output_type": "execute_result",
          "data": {
            "text/plain": [
              "<Figure size 432x288 with 0 Axes>"
            ]
          },
          "metadata": {
            "tags": []
          },
          "execution_count": 23
        },
        {
          "output_type": "execute_result",
          "data": {
            "text/plain": [
              "<matplotlib.collections.QuadMesh at 0x7f95e5e83860>"
            ]
          },
          "metadata": {
            "tags": []
          },
          "execution_count": 23
        },
        {
          "output_type": "execute_result",
          "data": {
            "text/plain": [
              "<matplotlib.collections.PathCollection at 0x7f95e5e83b38>"
            ]
          },
          "metadata": {
            "tags": []
          },
          "execution_count": 23
        },
        {
          "output_type": "execute_result",
          "data": {
            "text/plain": [
              "(3.3, 8.880000000000006)"
            ]
          },
          "metadata": {
            "tags": []
          },
          "execution_count": 23
        },
        {
          "output_type": "execute_result",
          "data": {
            "text/plain": [
              "(1.0, 5.380000000000004)"
            ]
          },
          "metadata": {
            "tags": []
          },
          "execution_count": 23
        },
        {
          "output_type": "execute_result",
          "data": {
            "text/plain": [
              "Text(0.5, 1.0, \"3-Class classification (k = 3, weights = 'uniform')\")"
            ]
          },
          "metadata": {
            "tags": []
          },
          "execution_count": 23
        },
        {
          "output_type": "execute_result",
          "data": {
            "text/plain": [
              "KNeighborsClassifier(algorithm='auto', leaf_size=30, metric='minkowski',\n",
              "                     metric_params=None, n_jobs=None, n_neighbors=3, p=2,\n",
              "                     weights='distance')"
            ]
          },
          "metadata": {
            "tags": []
          },
          "execution_count": 23
        },
        {
          "output_type": "execute_result",
          "data": {
            "text/plain": [
              "<Figure size 432x288 with 0 Axes>"
            ]
          },
          "metadata": {
            "tags": []
          },
          "execution_count": 23
        },
        {
          "output_type": "execute_result",
          "data": {
            "text/plain": [
              "<matplotlib.collections.QuadMesh at 0x7f95e5e405c0>"
            ]
          },
          "metadata": {
            "tags": []
          },
          "execution_count": 23
        },
        {
          "output_type": "execute_result",
          "data": {
            "text/plain": [
              "<matplotlib.collections.PathCollection at 0x7f95e5e40898>"
            ]
          },
          "metadata": {
            "tags": []
          },
          "execution_count": 23
        },
        {
          "output_type": "execute_result",
          "data": {
            "text/plain": [
              "(3.3, 8.880000000000006)"
            ]
          },
          "metadata": {
            "tags": []
          },
          "execution_count": 23
        },
        {
          "output_type": "execute_result",
          "data": {
            "text/plain": [
              "(1.0, 5.380000000000004)"
            ]
          },
          "metadata": {
            "tags": []
          },
          "execution_count": 23
        },
        {
          "output_type": "execute_result",
          "data": {
            "text/plain": [
              "Text(0.5, 1.0, \"3-Class classification (k = 3, weights = 'distance')\")"
            ]
          },
          "metadata": {
            "tags": []
          },
          "execution_count": 23
        },
        {
          "output_type": "display_data",
          "data": {
            "image/png": "[encoded data removed]",
            "text/plain": [
              "<Figure size 432x288 with 1 Axes>"
            ]
          },
          "metadata": {
            "tags": [],
            "needs_background": "light"
          }
        },
        {
          "output_type": "display_data",
          "data": {
            "image/png": "[encoded data removed]",
            "text/plain": [
              "<Figure size 432x288 with 1 Axes>"
            ]
          },
          "metadata": {
            "tags": [],
            "needs_background": "light"
          }
        }
      ]
    },
    {
      "cell_type": "markdown",
      "metadata": {
        "id": "JgQfOTkabaUB"
      },
      "source": [
        "## Load Dataset **diabetes**\n",
        "\n",
        "\n",
        "Ten baseline variables, age, sex, body mass index, average blood pressure, and six blood serum measurements were obtained for each of n = 442 diabetes patients, as well as the response of interest, a quantitative measure of disease progression one year after baseline.\n",
        "\n",
        ">-  |  -\n",
        ">---|---\n",
        "> Samples total\t|442\n",
        "> Dimensionality\t|10\n",
        "> Target Features | \treal, -.2 < x < .2\n",
        "\n",
        "\n",
        "\n",
        "\n",
        " **data : Bunch**\n",
        "\n",
        "Dictionary-like object, the interesting attributes are: ‘data’, the data to learn, ‘target’, the regression target for each sample, ‘data_filename’, the physical location of diabetes data csv dataset, and ‘target_filename’, the physical location of diabetes targets csv datataset (added in version 0.20).\n",
        "\n",
        "(data, target) : tuple if return_X_y is True\n",
        "\n",
        "\n",
        "\n"
      ]
    },
    {
      "cell_type": "code",
      "metadata": {
        "id": "as270CambaUB"
      },
      "source": [
        "from sklearn import datasets, linear_model\n",
        "from sklearn.metrics import mean_squared_error, r2_score\n",
        "from sklearn import metrics\n",
        "\n",
        "# Load the diabetes dataset\n",
        "diabetes = datasets.load_diabetes()\n",
        "\n",
        "\n",
        "# Use only one feature\n",
        "diabetes_X = diabetes.data[:, np.newaxis, 2]\n",
        "diabetes_df = pd.DataFrame(data= np.c_[diabetes['data'], diabetes['target']],\n",
        "                     columns= diabetes['feature_names'] + ['target'])\n"
      ],
      "execution_count": null,
      "outputs": []
    },
    {
      "cell_type": "code",
      "metadata": {
        "id": "xldCOk_imIv0",
        "colab": {
          "base_uri": "https://localhost:8080/",
          "height": 402
        },
        "outputId": "03355aa8-7246-4fa1-8525-a343e10ae580"
      },
      "source": [
        "diabetes_df"
      ],
      "execution_count": null,
      "outputs": [
        {
          "output_type": "execute_result",
          "data": {
            "text/html": [
              "<div>\n",
              "<style scoped>\n",
              "    .dataframe tbody tr th:only-of-type {\n",
              "        vertical-align: middle;\n",
              "    }\n",
              "\n",
              "    .dataframe tbody tr th {\n",
              "        vertical-align: top;\n",
              "    }\n",
              "\n",
              "    .dataframe thead th {\n",
              "        text-align: right;\n",
              "    }\n",
              "</style>\n",
              "<table border=\"1\" class=\"dataframe\">\n",
              "  <thead>\n",
              "    <tr style=\"text-align: right;\">\n",
              "      <th></th>\n",
              "      <th>age</th>\n",
              "      <th>sex</th>\n",
              "      <th>bmi</th>\n",
              "      <th>bp</th>\n",
              "      <th>s1</th>\n",
              "      <th>s2</th>\n",
              "      <th>s3</th>\n",
              "      <th>s4</th>\n",
              "      <th>s5</th>\n",
              "      <th>s6</th>\n",
              "      <th>target</th>\n",
              "    </tr>\n",
              "  </thead>\n",
              "  <tbody>\n",
              "    <tr>\n",
              "      <th>0</th>\n",
              "      <td>0.038076</td>\n",
              "      <td>0.050680</td>\n",
              "      <td>0.061696</td>\n",
              "      <td>0.021872</td>\n",
              "      <td>-0.044223</td>\n",
              "      <td>-0.034821</td>\n",
              "      <td>-0.043401</td>\n",
              "      <td>-0.002592</td>\n",
              "      <td>0.019908</td>\n",
              "      <td>-0.017646</td>\n",
              "      <td>151.0</td>\n",
              "    </tr>\n",
              "    <tr>\n",
              "      <th>1</th>\n",
              "      <td>-0.001882</td>\n",
              "      <td>-0.044642</td>\n",
              "      <td>-0.051474</td>\n",
              "      <td>-0.026328</td>\n",
              "      <td>-0.008449</td>\n",
              "      <td>-0.019163</td>\n",
              "      <td>0.074412</td>\n",
              "      <td>-0.039493</td>\n",
              "      <td>-0.068330</td>\n",
              "      <td>-0.092204</td>\n",
              "      <td>75.0</td>\n",
              "    </tr>\n",
              "    <tr>\n",
              "      <th>2</th>\n",
              "      <td>0.085299</td>\n",
              "      <td>0.050680</td>\n",
              "      <td>0.044451</td>\n",
              "      <td>-0.005671</td>\n",
              "      <td>-0.045599</td>\n",
              "      <td>-0.034194</td>\n",
              "      <td>-0.032356</td>\n",
              "      <td>-0.002592</td>\n",
              "      <td>0.002864</td>\n",
              "      <td>-0.025930</td>\n",
              "      <td>141.0</td>\n",
              "    </tr>\n",
              "    <tr>\n",
              "      <th>3</th>\n",
              "      <td>-0.089063</td>\n",
              "      <td>-0.044642</td>\n",
              "      <td>-0.011595</td>\n",
              "      <td>-0.036656</td>\n",
              "      <td>0.012191</td>\n",
              "      <td>0.024991</td>\n",
              "      <td>-0.036038</td>\n",
              "      <td>0.034309</td>\n",
              "      <td>0.022692</td>\n",
              "      <td>-0.009362</td>\n",
              "      <td>206.0</td>\n",
              "    </tr>\n",
              "    <tr>\n",
              "      <th>4</th>\n",
              "      <td>0.005383</td>\n",
              "      <td>-0.044642</td>\n",
              "      <td>-0.036385</td>\n",
              "      <td>0.021872</td>\n",
              "      <td>0.003935</td>\n",
              "      <td>0.015596</td>\n",
              "      <td>0.008142</td>\n",
              "      <td>-0.002592</td>\n",
              "      <td>-0.031991</td>\n",
              "      <td>-0.046641</td>\n",
              "      <td>135.0</td>\n",
              "    </tr>\n",
              "    <tr>\n",
              "      <th>...</th>\n",
              "      <td>...</td>\n",
              "      <td>...</td>\n",
              "      <td>...</td>\n",
              "      <td>...</td>\n",
              "      <td>...</td>\n",
              "      <td>...</td>\n",
              "      <td>...</td>\n",
              "      <td>...</td>\n",
              "      <td>...</td>\n",
              "      <td>...</td>\n",
              "      <td>...</td>\n",
              "    </tr>\n",
              "    <tr>\n",
              "      <th>437</th>\n",
              "      <td>0.041708</td>\n",
              "      <td>0.050680</td>\n",
              "      <td>0.019662</td>\n",
              "      <td>0.059744</td>\n",
              "      <td>-0.005697</td>\n",
              "      <td>-0.002566</td>\n",
              "      <td>-0.028674</td>\n",
              "      <td>-0.002592</td>\n",
              "      <td>0.031193</td>\n",
              "      <td>0.007207</td>\n",
              "      <td>178.0</td>\n",
              "    </tr>\n",
              "    <tr>\n",
              "      <th>438</th>\n",
              "      <td>-0.005515</td>\n",
              "      <td>0.050680</td>\n",
              "      <td>-0.015906</td>\n",
              "      <td>-0.067642</td>\n",
              "      <td>0.049341</td>\n",
              "      <td>0.079165</td>\n",
              "      <td>-0.028674</td>\n",
              "      <td>0.034309</td>\n",
              "      <td>-0.018118</td>\n",
              "      <td>0.044485</td>\n",
              "      <td>104.0</td>\n",
              "    </tr>\n",
              "    <tr>\n",
              "      <th>439</th>\n",
              "      <td>0.041708</td>\n",
              "      <td>0.050680</td>\n",
              "      <td>-0.015906</td>\n",
              "      <td>0.017282</td>\n",
              "      <td>-0.037344</td>\n",
              "      <td>-0.013840</td>\n",
              "      <td>-0.024993</td>\n",
              "      <td>-0.011080</td>\n",
              "      <td>-0.046879</td>\n",
              "      <td>0.015491</td>\n",
              "      <td>132.0</td>\n",
              "    </tr>\n",
              "    <tr>\n",
              "      <th>440</th>\n",
              "      <td>-0.045472</td>\n",
              "      <td>-0.044642</td>\n",
              "      <td>0.039062</td>\n",
              "      <td>0.001215</td>\n",
              "      <td>0.016318</td>\n",
              "      <td>0.015283</td>\n",
              "      <td>-0.028674</td>\n",
              "      <td>0.026560</td>\n",
              "      <td>0.044528</td>\n",
              "      <td>-0.025930</td>\n",
              "      <td>220.0</td>\n",
              "    </tr>\n",
              "    <tr>\n",
              "      <th>441</th>\n",
              "      <td>-0.045472</td>\n",
              "      <td>-0.044642</td>\n",
              "      <td>-0.073030</td>\n",
              "      <td>-0.081414</td>\n",
              "      <td>0.083740</td>\n",
              "      <td>0.027809</td>\n",
              "      <td>0.173816</td>\n",
              "      <td>-0.039493</td>\n",
              "      <td>-0.004220</td>\n",
              "      <td>0.003064</td>\n",
              "      <td>57.0</td>\n",
              "    </tr>\n",
              "  </tbody>\n",
              "</table>\n",
              "<p>442 rows × 11 columns</p>\n",
              "</div>"
            ],
            "text/plain": [
              "          age       sex       bmi  ...        s5        s6  target\n",
              "0    0.038076  0.050680  0.061696  ...  0.019908 -0.017646   151.0\n",
              "1   -0.001882 -0.044642 -0.051474  ... -0.068330 -0.092204    75.0\n",
              "2    0.085299  0.050680  0.044451  ...  0.002864 -0.025930   141.0\n",
              "3   -0.089063 -0.044642 -0.011595  ...  0.022692 -0.009362   206.0\n",
              "4    0.005383 -0.044642 -0.036385  ... -0.031991 -0.046641   135.0\n",
              "..        ...       ...       ...  ...       ...       ...     ...\n",
              "437  0.041708  0.050680  0.019662  ...  0.031193  0.007207   178.0\n",
              "438 -0.005515  0.050680 -0.015906  ... -0.018118  0.044485   104.0\n",
              "439  0.041708  0.050680 -0.015906  ... -0.046879  0.015491   132.0\n",
              "440 -0.045472 -0.044642  0.039062  ...  0.044528 -0.025930   220.0\n",
              "441 -0.045472 -0.044642 -0.073030  ... -0.004220  0.003064    57.0\n",
              "\n",
              "[442 rows x 11 columns]"
            ]
          },
          "metadata": {
            "tags": []
          },
          "execution_count": 25
        }
      ]
    },
    {
      "cell_type": "markdown",
      "metadata": {
        "id": "lpovnmFgbaUD"
      },
      "source": [
        "### Summarize the Dataset\n",
        "\n",
        "\n",
        "\n",
        "*   Dimensions of the dataset.\n",
        "*   Describtion of the dataset.\n",
        "\n",
        "  Statistical summary of all attributes.\n",
        "  \n",
        "*   Class Distribution\n",
        "\n"
      ]
    },
    {
      "cell_type": "code",
      "metadata": {
        "id": "ALc3xboObaUF",
        "colab": {
          "base_uri": "https://localhost:8080/"
        },
        "outputId": "d2a37b3a-a919-42d2-bd6c-2e28c30bd019"
      },
      "source": [
        "# shape\n",
        "print(diabetes_df.shape)\n"
      ],
      "execution_count": null,
      "outputs": [
        {
          "output_type": "stream",
          "text": [
            "(442, 11)\n"
          ],
          "name": "stdout"
        }
      ]
    },
    {
      "cell_type": "markdown",
      "metadata": {
        "id": "Ltlli8dDbaUJ"
      },
      "source": [
        "**Statistical Summary**"
      ]
    },
    {
      "cell_type": "code",
      "metadata": {
        "id": "mhQqBGQtbaUJ",
        "colab": {
          "base_uri": "https://localhost:8080/"
        },
        "outputId": "934f717d-9adc-49d9-f4f1-62c89b30a2e5"
      },
      "source": [
        "# descriptions\n",
        "\n",
        "print(diabetes_df[['age']].describe())"
      ],
      "execution_count": null,
      "outputs": [
        {
          "output_type": "stream",
          "text": [
            "                age\n",
            "count  4.420000e+02\n",
            "mean  -3.634285e-16\n",
            "std    4.761905e-02\n",
            "min   -1.072256e-01\n",
            "25%   -3.729927e-02\n",
            "50%    5.383060e-03\n",
            "75%    3.807591e-02\n",
            "max    1.107267e-01\n"
          ],
          "name": "stdout"
        }
      ]
    },
    {
      "cell_type": "code",
      "metadata": {
        "id": "G0zeGQNpbaUL",
        "colab": {
          "base_uri": "https://localhost:8080/",
          "height": 218
        },
        "outputId": "63729a97-1bdd-414e-b49d-0cbf1ef189a1"
      },
      "source": [
        "# datatype\n",
        "diabetes_df.dtypes"
      ],
      "execution_count": null,
      "outputs": [
        {
          "output_type": "execute_result",
          "data": {
            "text/plain": [
              "age       float64\n",
              "sex       float64\n",
              "bmi       float64\n",
              "bp        float64\n",
              "s1        float64\n",
              "s2        float64\n",
              "s3        float64\n",
              "s4        float64\n",
              "s5        float64\n",
              "s6        float64\n",
              "target    float64\n",
              "dtype: object"
            ]
          },
          "metadata": {
            "tags": []
          },
          "execution_count": 27
        }
      ]
    },
    {
      "cell_type": "code",
      "metadata": {
        "id": "7nfdD-JsbaUO",
        "colab": {
          "base_uri": "https://localhost:8080/",
          "height": 373
        },
        "outputId": "cbc19c83-561c-44e0-9bb1-9a4e270514c3"
      },
      "source": [
        "diabetes_df.corr(method='pearson')"
      ],
      "execution_count": null,
      "outputs": [
        {
          "output_type": "execute_result",
          "data": {
            "text/html": [
              "<div>\n",
              "<style scoped>\n",
              "    .dataframe tbody tr th:only-of-type {\n",
              "        vertical-align: middle;\n",
              "    }\n",
              "\n",
              "    .dataframe tbody tr th {\n",
              "        vertical-align: top;\n",
              "    }\n",
              "\n",
              "    .dataframe thead th {\n",
              "        text-align: right;\n",
              "    }\n",
              "</style>\n",
              "<table border=\"1\" class=\"dataframe\">\n",
              "  <thead>\n",
              "    <tr style=\"text-align: right;\">\n",
              "      <th></th>\n",
              "      <th>age</th>\n",
              "      <th>sex</th>\n",
              "      <th>bmi</th>\n",
              "      <th>bp</th>\n",
              "      <th>s1</th>\n",
              "      <th>s2</th>\n",
              "      <th>s3</th>\n",
              "      <th>s4</th>\n",
              "      <th>s5</th>\n",
              "      <th>s6</th>\n",
              "      <th>target</th>\n",
              "    </tr>\n",
              "  </thead>\n",
              "  <tbody>\n",
              "    <tr>\n",
              "      <th>age</th>\n",
              "      <td>1.000000</td>\n",
              "      <td>0.173737</td>\n",
              "      <td>0.185085</td>\n",
              "      <td>0.335427</td>\n",
              "      <td>0.260061</td>\n",
              "      <td>0.219243</td>\n",
              "      <td>-0.075181</td>\n",
              "      <td>0.203841</td>\n",
              "      <td>0.270777</td>\n",
              "      <td>0.301731</td>\n",
              "      <td>0.187889</td>\n",
              "    </tr>\n",
              "    <tr>\n",
              "      <th>sex</th>\n",
              "      <td>0.173737</td>\n",
              "      <td>1.000000</td>\n",
              "      <td>0.088161</td>\n",
              "      <td>0.241013</td>\n",
              "      <td>0.035277</td>\n",
              "      <td>0.142637</td>\n",
              "      <td>-0.379090</td>\n",
              "      <td>0.332115</td>\n",
              "      <td>0.149918</td>\n",
              "      <td>0.208133</td>\n",
              "      <td>0.043062</td>\n",
              "    </tr>\n",
              "    <tr>\n",
              "      <th>bmi</th>\n",
              "      <td>0.185085</td>\n",
              "      <td>0.088161</td>\n",
              "      <td>1.000000</td>\n",
              "      <td>0.395415</td>\n",
              "      <td>0.249777</td>\n",
              "      <td>0.261170</td>\n",
              "      <td>-0.366811</td>\n",
              "      <td>0.413807</td>\n",
              "      <td>0.446159</td>\n",
              "      <td>0.388680</td>\n",
              "      <td>0.586450</td>\n",
              "    </tr>\n",
              "    <tr>\n",
              "      <th>bp</th>\n",
              "      <td>0.335427</td>\n",
              "      <td>0.241013</td>\n",
              "      <td>0.395415</td>\n",
              "      <td>1.000000</td>\n",
              "      <td>0.242470</td>\n",
              "      <td>0.185558</td>\n",
              "      <td>-0.178761</td>\n",
              "      <td>0.257653</td>\n",
              "      <td>0.393478</td>\n",
              "      <td>0.390429</td>\n",
              "      <td>0.441484</td>\n",
              "    </tr>\n",
              "    <tr>\n",
              "      <th>s1</th>\n",
              "      <td>0.260061</td>\n",
              "      <td>0.035277</td>\n",
              "      <td>0.249777</td>\n",
              "      <td>0.242470</td>\n",
              "      <td>1.000000</td>\n",
              "      <td>0.896663</td>\n",
              "      <td>0.051519</td>\n",
              "      <td>0.542207</td>\n",
              "      <td>0.515501</td>\n",
              "      <td>0.325717</td>\n",
              "      <td>0.212022</td>\n",
              "    </tr>\n",
              "    <tr>\n",
              "      <th>s2</th>\n",
              "      <td>0.219243</td>\n",
              "      <td>0.142637</td>\n",
              "      <td>0.261170</td>\n",
              "      <td>0.185558</td>\n",
              "      <td>0.896663</td>\n",
              "      <td>1.000000</td>\n",
              "      <td>-0.196455</td>\n",
              "      <td>0.659817</td>\n",
              "      <td>0.318353</td>\n",
              "      <td>0.290600</td>\n",
              "      <td>0.174054</td>\n",
              "    </tr>\n",
              "    <tr>\n",
              "      <th>s3</th>\n",
              "      <td>-0.075181</td>\n",
              "      <td>-0.379090</td>\n",
              "      <td>-0.366811</td>\n",
              "      <td>-0.178761</td>\n",
              "      <td>0.051519</td>\n",
              "      <td>-0.196455</td>\n",
              "      <td>1.000000</td>\n",
              "      <td>-0.738493</td>\n",
              "      <td>-0.398577</td>\n",
              "      <td>-0.273697</td>\n",
              "      <td>-0.394789</td>\n",
              "    </tr>\n",
              "    <tr>\n",
              "      <th>s4</th>\n",
              "      <td>0.203841</td>\n",
              "      <td>0.332115</td>\n",
              "      <td>0.413807</td>\n",
              "      <td>0.257653</td>\n",
              "      <td>0.542207</td>\n",
              "      <td>0.659817</td>\n",
              "      <td>-0.738493</td>\n",
              "      <td>1.000000</td>\n",
              "      <td>0.617857</td>\n",
              "      <td>0.417212</td>\n",
              "      <td>0.430453</td>\n",
              "    </tr>\n",
              "    <tr>\n",
              "      <th>s5</th>\n",
              "      <td>0.270777</td>\n",
              "      <td>0.149918</td>\n",
              "      <td>0.446159</td>\n",
              "      <td>0.393478</td>\n",
              "      <td>0.515501</td>\n",
              "      <td>0.318353</td>\n",
              "      <td>-0.398577</td>\n",
              "      <td>0.617857</td>\n",
              "      <td>1.000000</td>\n",
              "      <td>0.464670</td>\n",
              "      <td>0.565883</td>\n",
              "    </tr>\n",
              "    <tr>\n",
              "      <th>s6</th>\n",
              "      <td>0.301731</td>\n",
              "      <td>0.208133</td>\n",
              "      <td>0.388680</td>\n",
              "      <td>0.390429</td>\n",
              "      <td>0.325717</td>\n",
              "      <td>0.290600</td>\n",
              "      <td>-0.273697</td>\n",
              "      <td>0.417212</td>\n",
              "      <td>0.464670</td>\n",
              "      <td>1.000000</td>\n",
              "      <td>0.382483</td>\n",
              "    </tr>\n",
              "    <tr>\n",
              "      <th>target</th>\n",
              "      <td>0.187889</td>\n",
              "      <td>0.043062</td>\n",
              "      <td>0.586450</td>\n",
              "      <td>0.441484</td>\n",
              "      <td>0.212022</td>\n",
              "      <td>0.174054</td>\n",
              "      <td>-0.394789</td>\n",
              "      <td>0.430453</td>\n",
              "      <td>0.565883</td>\n",
              "      <td>0.382483</td>\n",
              "      <td>1.000000</td>\n",
              "    </tr>\n",
              "  </tbody>\n",
              "</table>\n",
              "</div>"
            ],
            "text/plain": [
              "             age       sex       bmi  ...        s5        s6    target\n",
              "age     1.000000  0.173737  0.185085  ...  0.270777  0.301731  0.187889\n",
              "sex     0.173737  1.000000  0.088161  ...  0.149918  0.208133  0.043062\n",
              "bmi     0.185085  0.088161  1.000000  ...  0.446159  0.388680  0.586450\n",
              "bp      0.335427  0.241013  0.395415  ...  0.393478  0.390429  0.441484\n",
              "s1      0.260061  0.035277  0.249777  ...  0.515501  0.325717  0.212022\n",
              "s2      0.219243  0.142637  0.261170  ...  0.318353  0.290600  0.174054\n",
              "s3     -0.075181 -0.379090 -0.366811  ... -0.398577 -0.273697 -0.394789\n",
              "s4      0.203841  0.332115  0.413807  ...  0.617857  0.417212  0.430453\n",
              "s5      0.270777  0.149918  0.446159  ...  1.000000  0.464670  0.565883\n",
              "s6      0.301731  0.208133  0.388680  ...  0.464670  1.000000  0.382483\n",
              "target  0.187889  0.043062  0.586450  ...  0.565883  0.382483  1.000000\n",
              "\n",
              "[11 rows x 11 columns]"
            ]
          },
          "metadata": {
            "tags": []
          },
          "execution_count": 28
        }
      ]
    },
    {
      "cell_type": "markdown",
      "metadata": {
        "id": "rJkoHgLgbaUW"
      },
      "source": [
        "## Splitting data to training and testing sets\n",
        "\n",
        "To investigate performance of our model, we need to split the data to training and testing sets(validation set). This will help us to check potential overfitting in our model training.\n",
        "\n",
        "**random_state** as the name suggests, is used for initializing the internal random number generator, which will decide the splitting of data into train and test indices in your case."
      ]
    },
    {
      "cell_type": "code",
      "metadata": {
        "id": "m3Z5icWVbaUX"
      },
      "source": [
        "from sklearn.model_selection import train_test_split\n",
        "\n",
        "X_train, X_test, y_train, y_test = train_test_split(diabetes_X, diabetes.target, test_size=0.20, random_state=5)\n"
      ],
      "execution_count": null,
      "outputs": []
    },
    {
      "cell_type": "markdown",
      "metadata": {
        "id": "ndWY3Nl9baUa"
      },
      "source": [
        "# Building regression models\n",
        "\n",
        "\n"
      ]
    },
    {
      "cell_type": "markdown",
      "metadata": {
        "id": "3uqR6dzxbaUb"
      },
      "source": [
        "## Regression Model"
      ]
    },
    {
      "cell_type": "code",
      "metadata": {
        "id": "foBrgZHIbaUc",
        "colab": {
          "base_uri": "https://localhost:8080/",
          "height": 34
        },
        "outputId": "c3c64ff7-4ef9-4101-e509-613d0351768f"
      },
      "source": [
        "from sklearn.linear_model import LinearRegression\n",
        "\n",
        "# Create linear regression object\n",
        "regr = LinearRegression()\n",
        "\n",
        "# Train the model using the training sets\n",
        "regr.fit(X_train, y_train)\n"
      ],
      "execution_count": null,
      "outputs": [
        {
          "output_type": "execute_result",
          "data": {
            "text/plain": [
              "LinearRegression(copy_X=True, fit_intercept=True, n_jobs=None, normalize=False)"
            ]
          },
          "metadata": {
            "tags": []
          },
          "execution_count": 30
        }
      ]
    },
    {
      "cell_type": "code",
      "metadata": {
        "id": "JiyQzD4HbaUf",
        "colab": {
          "base_uri": "https://localhost:8080/",
          "height": 319
        },
        "outputId": "7bff3ced-8c61-48f4-e821-09c47f8e8297"
      },
      "source": [
        "# Make predictions using the testing set\n",
        "y_pred = regr.predict(X_test)\n",
        "print(y_pred)\n"
      ],
      "execution_count": null,
      "outputs": [
        {
          "output_type": "stream",
          "text": [
            "[171.27316713 223.87670856 112.5999863  144.97139641 191.50529845\n",
            " 128.78569136 143.95978985 221.85349543 157.1106752  203.64457724\n",
            "  72.13572366 198.58654441 148.00621611 148.00621611 207.69100351\n",
            " 131.82051105 138.90175702  97.42588781  92.36785498 115.634806\n",
            " 112.5999863  129.79729792 130.80890449 184.42405249 122.71605196\n",
            " 102.48392064 280.52667626 212.74903634 129.79729792 134.85533075\n",
            " 129.79729792 119.68123226 129.79729792 130.80890449 150.02942924\n",
            " 139.91336358 208.70261007 150.02942924 167.22674087  79.21696962\n",
            " 100.46070751 142.94818328 239.05080705 131.82051105 140.92497015\n",
            " 125.75087166 216.7954626   91.35624841 183.41244592 140.92497015\n",
            " 231.96956109 132.83211762 227.92313483 218.81867573 202.63297068\n",
            " 120.69283883 127.77408479  83.26339588 188.47047875 194.54011815\n",
            " 108.55356003 170.26156056 134.85533075 156.09906864 136.87854388\n",
            " 211.73742977 215.78385604 151.04103581 188.47047875 157.1106752\n",
            " 165.20352773 169.249954   167.22674087 153.06424894 170.26156056\n",
            " 155.08746207 144.97139641 209.71421664 120.69283883 208.70261007\n",
            " 165.20352773 146.99460954 132.83211762 141.93657671 153.06424894\n",
            " 200.60975754 132.83211762 109.5651666  194.54011815]\n"
          ],
          "name": "stdout"
        }
      ]
    },
    {
      "cell_type": "code",
      "metadata": {
        "id": "QXoLxddWbaUi",
        "colab": {
          "base_uri": "https://localhost:8080/",
          "height": 353
        },
        "outputId": "3fc8c976-05b3-470f-f251-1e8d2fbfe5c2"
      },
      "source": [
        "from sklearn import metrics\n",
        "\n",
        "# The coefficients\n",
        "print('Coefficients: \\n', regr.coef_)\n",
        "# The mean squared error\n",
        "print(\"Mean squared error: %.2f\"\n",
        "      % metrics.mean_squared_error(y_test, y_pred))\n",
        "print(\"Mean absolute error: %.2f\"\n",
        "      % metrics.mean_absolute_error(y_test, y_pred))\n",
        "\n",
        "# Plot outputs\n",
        "plt.scatter(X_test, y_test,  color='black')\n",
        "plt.plot(X_test, y_pred, color='blue', linewidth=3)\n",
        "\n",
        "plt.xticks(())\n",
        "plt.yticks(())\n",
        "\n",
        "plt.show()"
      ],
      "execution_count": null,
      "outputs": [
        {
          "output_type": "stream",
          "text": [
            "Coefficients: \n",
            " [938.57416386]\n",
            "Mean squared error: 4391.82\n",
            "Mean absolute error: 55.51\n"
          ],
          "name": "stdout"
        },
        {
          "output_type": "execute_result",
          "data": {
            "text/plain": [
              "<matplotlib.collections.PathCollection at 0x7f897d9860f0>"
            ]
          },
          "metadata": {
            "tags": []
          },
          "execution_count": 32
        },
        {
          "output_type": "execute_result",
          "data": {
            "text/plain": [
              "[<matplotlib.lines.Line2D at 0x7f897d957cc0>]"
            ]
          },
          "metadata": {
            "tags": []
          },
          "execution_count": 32
        },
        {
          "output_type": "execute_result",
          "data": {
            "text/plain": [
              "([], <a list of 0 Text major ticklabel objects>)"
            ]
          },
          "metadata": {
            "tags": []
          },
          "execution_count": 32
        },
        {
          "output_type": "execute_result",
          "data": {
            "text/plain": [
              "([], <a list of 0 Text major ticklabel objects>)"
            ]
          },
          "metadata": {
            "tags": []
          },
          "execution_count": 32
        },
        {
          "output_type": "display_data",
          "data": {
            "image/png": "[encoded data removed]",
            "text/plain": [
              "<Figure size 432x288 with 1 Axes>"
            ]
          },
          "metadata": {
            "tags": []
          }
        }
      ]
    },
    {
      "cell_type": "code",
      "metadata": {
        "id": "UgTUNljHbaUk"
      },
      "source": [
        "\n",
        "X_train, X_test, y_train, y_test = train_test_split(diabetes_df[diabetes['feature_names']], diabetes.target, test_size=0.30, random_state=5)\n"
      ],
      "execution_count": null,
      "outputs": []
    },
    {
      "cell_type": "code",
      "metadata": {
        "id": "hw1_ePgxbaUm",
        "colab": {
          "base_uri": "https://localhost:8080/",
          "height": 34
        },
        "outputId": "5d55c7db-31be-48b6-d651-3bbd78e68806"
      },
      "source": [
        "# Train the model using the training sets\n",
        "regr.fit(X_train, y_train)\n",
        "# Make predictions using the testing set\n",
        "y_pred = regr.predict(X_test)"
      ],
      "execution_count": null,
      "outputs": [
        {
          "output_type": "execute_result",
          "data": {
            "text/plain": [
              "LinearRegression(copy_X=True, fit_intercept=True, n_jobs=None, normalize=False)"
            ]
          },
          "metadata": {
            "tags": []
          },
          "execution_count": 34
        }
      ]
    },
    {
      "cell_type": "markdown",
      "metadata": {
        "id": "1tUY0rQYbaUi"
      },
      "source": [
        "# Performance measure\n",
        "\n",
        "Mean Absolute Error (MAE) and  Mean squared error (MSE) are two of the most common metrics used to measure accuracy for continuous variables. \n",
        "\n",
        "Mean Absolute Error (MAE)\n",
        "\n",
        "\n",
        "$\\text{MAE}(y, \\hat{y}) = \\frac{1}{n_{\\text{samples}}} \\sum_{i=0}^{n_{\\text{samples}}-1} \\left| y_i - \\hat{y}_i \\right|$ \n",
        "\n",
        "\n",
        "Mean squared error (MSE)\n",
        "\n",
        "\n",
        "$\\text{MSE}(y, \\hat{y}) = \\frac{1}{n_\\text{samples}} \\sum_{i=0}^{n_\\text{samples} - 1} (y_i - \\hat{y}_i)^2$\n",
        "\n"
      ]
    },
    {
      "cell_type": "code",
      "metadata": {
        "id": "Wtk5vhmxbaUo",
        "colab": {
          "base_uri": "https://localhost:8080/",
          "height": 118
        },
        "outputId": "9c3fba7d-a589-4c63-fafd-8fbe205648ae"
      },
      "source": [
        "# The coefficients\n",
        "print('Coefficients: \\n', regr.coef_)\n",
        "# The mean squared error\n",
        "print(\"Mean squared error: %.2f\"\n",
        "      % metrics.mean_squared_error(y_test, y_pred))\n",
        "print(\"Mean absolute error: %.2f\"\n",
        "      % metrics.mean_absolute_error(y_test, y_pred))\n",
        "print(metrics.r2_score(y_test, y_pred))\n",
        "\n",
        "\n"
      ],
      "execution_count": null,
      "outputs": [
        {
          "output_type": "stream",
          "text": [
            "Coefficients: \n",
            " [ -51.76984412 -216.33429332  518.58866586  330.65098157 -592.75657301\n",
            "  406.11524251    8.72139263  123.00344652  700.50136883    5.56790133]\n",
            "Mean squared error: 3121.97\n",
            "Mean absolute error: 45.48\n",
            "0.5209038400488757\n"
          ],
          "name": "stdout"
        }
      ]
    },
    {
      "cell_type": "markdown",
      "metadata": {
        "id": "1y2FD1XJ8T3i"
      },
      "source": [
        "\n",
        "## breast_cancer DataSet\n",
        "\n",
        "\n",
        "The breast cancer dataset is a classic and easy to use binary classification dataset.\n",
        "\n",
        ">-   |  -\n",
        ">---|---\n",
        "> Classes\t| 2\n",
        "> Samples per class\t|212(M),357(B)\n",
        "> Samples total\t|569\n",
        "> Dimensionality\t|30\n",
        "> Features | \treal, positive\n",
        "\n",
        "\n",
        "\n",
        " **data : Bunch**\n",
        "\n",
        "Dictionary-like object, \n",
        "*  the interesting attributes are: ‘data’\n",
        "*  the data to learn, ‘target’, \n",
        "*  the classification labels, ‘target_names’\n",
        "*  the meaning of the labels, ‘feature_names’\n",
        "*  the meaning of the features, and ‘DESCR’, the full description of the dataset\n",
        "*  ‘filename’, the physical location of breast cancer csv dataset (added in version 0.20).\n",
        "\n",
        "\n",
        "#### load data from sklearn data sets\n",
        "\n",
        "scikit-learn - the machine learning algorithms used for data analysis and data mining tasks\n",
        "\n",
        "\n"
      ]
    },
    {
      "cell_type": "code",
      "metadata": {
        "id": "VpnLz5c51Lq2"
      },
      "source": [
        "from sklearn.datasets import load_breast_cancer\n",
        "breast_data = load_breast_cancer()"
      ],
      "execution_count": null,
      "outputs": []
    },
    {
      "cell_type": "markdown",
      "metadata": {
        "id": "rrD97Gul2fKD"
      },
      "source": [
        "Let's check the shapes of the dataframes:"
      ]
    },
    {
      "cell_type": "code",
      "metadata": {
        "id": "2-univG61YbU",
        "colab": {
          "base_uri": "https://localhost:8080/"
        },
        "outputId": "70dcffc9-e543-42a1-d630-3690d3535ed7"
      },
      "source": [
        "\n",
        "breast_data.data.shape\n",
        "breast_data.target.shape\n",
        "list(breast_data.target_names)\n"
      ],
      "execution_count": null,
      "outputs": [
        {
          "output_type": "execute_result",
          "data": {
            "text/plain": [
              "(569, 30)"
            ]
          },
          "metadata": {
            "tags": []
          },
          "execution_count": 30
        },
        {
          "output_type": "execute_result",
          "data": {
            "text/plain": [
              "(569,)"
            ]
          },
          "metadata": {
            "tags": []
          },
          "execution_count": 30
        },
        {
          "output_type": "execute_result",
          "data": {
            "text/plain": [
              "['malignant', 'benign']"
            ]
          },
          "metadata": {
            "tags": []
          },
          "execution_count": 30
        }
      ]
    },
    {
      "cell_type": "markdown",
      "metadata": {
        "id": "phb4vRQm9jUa"
      },
      "source": [
        "## Splitting data to training and testing sets\n",
        "\n",
        "To investigate performance of our model, we need to split the data to training and testing sets. This will help us to check potential overfitting in our model training.\n",
        "\n",
        "**random_state** as the name suggests, is used for initializing the internal random number generator, which will decide the splitting of data into train and test indices in your case."
      ]
    },
    {
      "cell_type": "code",
      "metadata": {
        "id": "czRPFHbi9mgh"
      },
      "source": [
        "from sklearn.model_selection import train_test_split\n",
        "\n",
        "X_train, X_test, y_train, y_test = train_test_split(breast_data.data, breast_data.target, test_size=0.30, random_state=5)\n"
      ],
      "execution_count": null,
      "outputs": []
    },
    {
      "cell_type": "markdown",
      "metadata": {
        "id": "DRsL_8AG5Gio"
      },
      "source": [
        "## Logistic regression\n",
        "If we have set of features X1 to Xn, y can be obtained as:\n",
        "\\begin{equation*} y=b0+b1X1+b2X2+...+bnXn\\end{equation*}\n",
        "\n",
        "where y is the predicted value obtained by weighted sum of the feature values.\n",
        "\n",
        "Then probability of each class (for example tissue class BREAST) can be obtained using the logistic function \n",
        "\n",
        "\\begin{equation*} p(class=BREAST)=\\frac{1}{(1+exp(-y))} \\end{equation*}\n",
        "\n",
        "Based on the given class labels and the features given in the trainign data, coefficients b0 to bn can be ontained during the optimization process.\n",
        "\n",
        "b0 to bn are fixed for all samples while X1 to Xn are feature values specific to each sample. Hence, the logistic function will give us probability of each class assigned to each sample. Finally, the model will choose the class with the highest probability for each sample.\n",
        "\n",
        "\n",
        "**Note.** The logistic regression model is parametric and the parameters are the regression coefficiets b0 to bn.\n"
      ]
    },
    {
      "cell_type": "code",
      "metadata": {
        "id": "74gD0HCTq46K",
        "colab": {
          "base_uri": "https://localhost:8080/",
          "height": 373
        },
        "outputId": "46c3cc87-d16a-4ef6-f2f6-61c73e808685"
      },
      "source": [
        "from sklearn.linear_model import LogisticRegression as LR\n",
        "\n",
        "# Initialize our classifier\n",
        "#logreg = LogisticRegression()\n",
        "logreg = LR()\n",
        "\n",
        "# Fitting the model with the data\n",
        "logreg.fit(X_train, y_train)\n",
        "\n",
        "# prediction in test set\n",
        "y_pred = logreg.predict(X_test)\n",
        "y_pred"
      ],
      "execution_count": null,
      "outputs": [
        {
          "output_type": "stream",
          "text": [
            "/usr/local/lib/python3.6/dist-packages/sklearn/linear_model/_logistic.py:940: ConvergenceWarning: lbfgs failed to converge (status=1):\n",
            "STOP: TOTAL NO. of ITERATIONS REACHED LIMIT.\n",
            "\n",
            "Increase the number of iterations (max_iter) or scale the data as shown in:\n",
            "    https://scikit-learn.org/stable/modules/preprocessing.html\n",
            "Please also refer to the documentation for alternative solver options:\n",
            "    https://scikit-learn.org/stable/modules/linear_model.html#logistic-regression\n",
            "  extra_warning_msg=_LOGISTIC_SOLVER_CONVERGENCE_MSG)\n"
          ],
          "name": "stderr"
        },
        {
          "output_type": "execute_result",
          "data": {
            "text/plain": [
              "LogisticRegression(C=1.0, class_weight=None, dual=False, fit_intercept=True,\n",
              "                   intercept_scaling=1, l1_ratio=None, max_iter=100,\n",
              "                   multi_class='auto', n_jobs=None, penalty='l2',\n",
              "                   random_state=None, solver='lbfgs', tol=0.0001, verbose=0,\n",
              "                   warm_start=False)"
            ]
          },
          "metadata": {
            "tags": []
          },
          "execution_count": 41
        },
        {
          "output_type": "execute_result",
          "data": {
            "text/plain": [
              "array([0, 1, 1, 1, 1, 0, 1, 1, 1, 1, 1, 1, 0, 1, 1, 1, 1, 1, 1, 1, 1, 1,\n",
              "       1, 1, 1, 1, 1, 0, 1, 0, 0, 0, 0, 0, 1, 1, 0, 1, 1, 0, 1, 1, 1, 0,\n",
              "       1, 1, 0, 0, 1, 0, 1, 1, 1, 1, 1, 0, 0, 0, 1, 0, 0, 0, 1, 1, 1, 1,\n",
              "       1, 1, 1, 0, 1, 0, 1, 1, 1, 1, 0, 1, 0, 1, 0, 1, 0, 0, 0, 1, 0, 1,\n",
              "       0, 0, 0, 0, 1, 1, 0, 0, 1, 1, 1, 1, 1, 0, 1, 1, 0, 0, 0, 0, 1, 0,\n",
              "       1, 0, 1, 0, 1, 0, 0, 1, 0, 1, 1, 1, 0, 1, 0, 1, 0, 1, 1, 0, 1, 1,\n",
              "       1, 1, 1, 0, 1, 1, 1, 1, 1, 1, 1, 0, 1, 1, 1, 0, 1, 1, 1, 0, 1, 1,\n",
              "       1, 0, 1, 1, 1, 1, 1, 1, 1, 1, 0, 0, 1, 1, 0, 1, 1])"
            ]
          },
          "metadata": {
            "tags": []
          },
          "execution_count": 41
        }
      ]
    },
    {
      "cell_type": "code",
      "metadata": {
        "id": "ZSuig7RfPlls",
        "colab": {
          "base_uri": "https://localhost:8080/",
          "height": 448
        },
        "outputId": "371c95b6-88be-4eb8-da26-1ec8f5a460b3"
      },
      "source": [
        "from sklearn import metrics\n",
        "\n",
        "print(\"accuracy of the predictions:\", metrics.accuracy_score(y_test, y_pred))\n",
        "print(\"blanced accuracy of the predictions:\", metrics.balanced_accuracy_score(y_test, y_pred))\n",
        "print(\"MCC of the predictions:\", metrics.matthews_corrcoef(y_test, y_pred))\n",
        "print(\"Confusion matrix of the predictions:\", metrics.confusion_matrix(y_test, y_pred))\n",
        "print(\"Confusion matrix of the predictions:\\n\", metrics.confusion_matrix(y_test, y_pred))\n",
        "\n",
        "plot_confusion_matrix(y_test, y_pred, classes=[0,1],\n",
        "                      title='Confusion matrix')\n",
        "\n",
        "plt.show()\n"
      ],
      "execution_count": null,
      "outputs": [
        {
          "output_type": "stream",
          "text": [
            "accuracy of the predictions: 0.9532163742690059\n",
            "blanced accuracy of the predictions: 0.9453800298062593\n",
            "MCC of the predictions: 0.8976085456008075\n",
            "Confusion matrix of the predictions: [[ 56   5]\n",
            " [  3 107]]\n",
            "Confusion matrix of the predictions:\n",
            " [[ 56   5]\n",
            " [  3 107]]\n"
          ],
          "name": "stdout"
        },
        {
          "output_type": "execute_result",
          "data": {
            "text/plain": [
              "<matplotlib.axes._subplots.AxesSubplot at 0x7f897d825a20>"
            ]
          },
          "metadata": {
            "tags": []
          },
          "execution_count": 42
        },
        {
          "output_type": "display_data",
          "data": {
            "image/png": "[encoded data removed]",
            "text/plain": [
              "<Figure size 432x288 with 2 Axes>"
            ]
          },
          "metadata": {
            "tags": []
          }
        }
      ]
    },
    {
      "cell_type": "markdown",
      "metadata": {
        "id": "62cLiquCQdd7"
      },
      "source": [
        "# Building classification models\n",
        "\n",
        "Among the available classification methods in Python, we focus on the following five to build classification models in our dataset:\n",
        "\n",
        "* Logistic regression\n",
        "* K- nearest neighbour\n",
        "* **Naive Bayes**\n",
        "* Random forest\n",
        "\n",
        "## Naive Bayes\n",
        "To understand Naive Bayes algotirhm, we need to know what Bayes theorem. Bayes theorem related conditional rpobabilities as follows:\n",
        "\n",
        "\\begin{equation*} p(A|B)p(B)=p(B|A)p(A) \\end{equation*}\n",
        "that can be rewritten as\n",
        "\n",
        "\\begin{equation*} p(A|B)=\\frac{p(B|A)p(A)}{p(B)} \\end{equation*}\n",
        "\n",
        "where p(A) and p(B) are probabilities of events A and B, respectively. p(A|B) and p(B|A) are also conditional probabilities of A given B and B given A, respectively.\n",
        "**Example without numbers**\n",
        "\n",
        "Now let's assume we have 3 features X1, X2 and X3 and we want to identify the probability of class C for sample A with feature values *x1*, *x2* and *x3*:\n",
        "\n",
        "\\begin{equation*} p(class=C|X1=x1, X2=x2 , X3=x3)=\\frac{p(X1=x1|class=C)p(X2=x2|lass=C)p(X3=x3|class=C)p(class=C)}{p(X1=x1)p(X2=x2)p(X3=x3)} \\end{equation*}\n",
        "\n",
        "where \n",
        "\\begin{equation*} p(X1=x1, X2=x2 , X3=x3)=p(X1=x1)p(X2=x2)p(X3=x3) \\end{equation*}\n",
        "and\n",
        "\\begin{equation*} p(X1=x1, X2=x2 , X3=x3|class=C)=p(X1=x1|class=C)p(X2=x2|class=C)p(X3=x3|lass=C)p(class=C) \\end{equation*}\n",
        "\n",
        "as the features are independent variables. \n",
        "\n",
        "**Real life example with numbers**\n",
        "We want to know the chance of having breast cancer if the diagnosis test is positive for a woman with the age between 40 and 60. This example is mainly for understanding Bayes theorem not Naive Bayes classifier. In case of Naive Bayes algorithm, this process can be easily extended to multiple features as described in the above example.\n",
        "\n",
        "***Assumptions (not necessarily correct)***\n",
        "* 2% of women between 40 and 60 have breast cancer\n",
        "* True positive rate is 95% (if a woman has breast cancer, it will be diagnosed with 95% probability). Therefore, 5% of the time the women without breast cancer will be diagnosed positively by the test.\n",
        "\n",
        "Now the question is *What is the chance of havign breast cancer if a woman has positive result from a diagnosis test?*\n",
        "\n",
        "\\begin{equation*} p(having \\quad breast \\quad cancer|positive)=\\frac{p(positive|breast \\quad cancer)p(breast cancer)}{p(positive)} \\end{equation*}\n",
        "\n",
        "where \n",
        "\n",
        "\n",
        "\\begin{equation*} p(positive) = p(positive|having \\quad breast \\quad cancer)p(having \\quad breast \\quad cancer) \\\\+ p(positive|not \\quad having \\quad breast \\quad cancer)p(not \\quad having \\quad breast \\quad cancer)\\\\=\n",
        "0.95*0.02+0.05*0.98\\\\=0.068\\end{equation*}\n",
        "\n",
        "Therefore,\n",
        "\n",
        "\\begin{equation*} p(having \\quad breast  \\quad cancer|positive)=\\frac{p(positive|breast \\quad cancer)p(having \\quad breast \\quad cancer)}{p(positive)}\\\\= \\frac{0.95*0.02}{0.068}\\\\=0.28\\end{equation*}\n",
        "\n",
        "\n",
        "As we can see, there is only 28% chance of having cancer upon positive test result. Although the numbers were not clinically valid numbers, we deal with similar results in disease diagnosis. This is one of the reasons that further checkups by phycisions are mandatory upon positive results. Do not panic when you have a positive result but follow up with your doctor immediately.\n",
        "\n",
        "**Note.** Naive Bayes classifier is called ***Naive*** as it assumes each feature will independently contribute in prediction of a class for each data point (sample)."
      ]
    },
    {
      "cell_type": "code",
      "metadata": {
        "id": "7yafr4ZVP9cY"
      },
      "source": [
        "from sklearn.naive_bayes import GaussianNB\n",
        "\n",
        "# Initialize our classifier\n",
        "gnb = GaussianNB()\n",
        "\n",
        "# Train our classifier\n",
        "model = gnb.fit(X_train, y_train)"
      ],
      "execution_count": null,
      "outputs": []
    },
    {
      "cell_type": "code",
      "metadata": {
        "id": "CQxu_bSpQ6LA",
        "colab": {
          "base_uri": "https://localhost:8080/",
          "height": 101
        },
        "outputId": "4e6f0909-0643-40ea-9d20-ddbb8baf7f84"
      },
      "source": [
        "y_pred = model.predict(X_test)\n",
        "print(y_pred)"
      ],
      "execution_count": null,
      "outputs": [
        {
          "output_type": "stream",
          "text": [
            "[0 1 1 1 1 0 1 1 0 1 1 1 0 1 1 1 0 1 1 1 0 1 1 1 1 1 1 0 1 0 0 0 1 0 1 1 0\n",
            " 1 1 0 1 1 1 0 1 1 0 0 1 0 1 1 1 1 1 0 0 0 1 0 0 0 1 1 1 1 1 1 1 0 1 0 1 1\n",
            " 1 1 0 1 0 0 0 1 0 0 0 1 0 1 0 0 0 0 1 1 0 0 1 1 1 1 1 0 1 1 0 0 1 0 1 1 1\n",
            " 0 0 0 1 1 0 1 0 1 1 1 0 1 0 1 0 1 0 0 1 1 1 1 1 0 1 1 1 1 1 1 1 0 1 1 1 0\n",
            " 1 1 1 0 1 1 1 0 1 1 0 1 1 1 1 1 0 0 1 1 1 1 1]\n"
          ],
          "name": "stdout"
        }
      ]
    },
    {
      "cell_type": "code",
      "metadata": {
        "id": "YSIXwh-9rXr4",
        "colab": {
          "base_uri": "https://localhost:8080/",
          "height": 1000
        },
        "outputId": "de82b466-55fe-4018-e2f2-1f87b5c64a88"
      },
      "source": [
        "model.predict_proba(X_train)"
      ],
      "execution_count": null,
      "outputs": [
        {
          "output_type": "execute_result",
          "data": {
            "text/plain": [
              "array([[9.99686848e-001, 3.13151653e-004],\n",
              "       [3.47869614e-014, 1.00000000e+000],\n",
              "       [9.46348993e-001, 5.36510068e-002],\n",
              "       [2.80943521e-017, 1.00000000e+000],\n",
              "       [2.15893056e-011, 1.00000000e+000],\n",
              "       [1.66479840e-014, 1.00000000e+000],\n",
              "       [3.98589687e-001, 6.01410313e-001],\n",
              "       [4.35763926e-018, 1.00000000e+000],\n",
              "       [1.00000000e+000, 3.70581487e-036],\n",
              "       [3.27971845e-011, 1.00000000e+000],\n",
              "       [2.86252434e-012, 1.00000000e+000],\n",
              "       [1.17832068e-011, 1.00000000e+000],\n",
              "       [1.00000000e+000, 1.40806536e-010],\n",
              "       [8.00477698e-007, 9.99999200e-001],\n",
              "       [1.00000000e+000, 1.13351940e-058],\n",
              "       [1.92405753e-014, 1.00000000e+000],\n",
              "       [1.63510186e-012, 1.00000000e+000],\n",
              "       [2.63745895e-013, 1.00000000e+000],\n",
              "       [1.00000000e+000, 3.13265160e-018],\n",
              "       [1.15002441e-010, 1.00000000e+000],\n",
              "       [1.00000000e+000, 1.19316546e-016],\n",
              "       [1.34334949e-001, 8.65665051e-001],\n",
              "       [1.01974845e-017, 1.00000000e+000],\n",
              "       [1.00000000e+000, 1.56050769e-046],\n",
              "       [1.33109773e-017, 1.00000000e+000],\n",
              "       [5.55407430e-014, 1.00000000e+000],\n",
              "       [6.61157050e-011, 1.00000000e+000],\n",
              "       [1.00000000e+000, 8.58220075e-248],\n",
              "       [1.00000000e+000, 1.34493928e-040],\n",
              "       [1.00000000e+000, 1.91170389e-013],\n",
              "       [1.00000000e+000, 8.54550290e-039],\n",
              "       [6.92480339e-013, 1.00000000e+000],\n",
              "       [3.75797810e-015, 1.00000000e+000],\n",
              "       [1.58405911e-017, 1.00000000e+000],\n",
              "       [1.00000000e+000, 1.00164692e-055],\n",
              "       [4.46633922e-016, 1.00000000e+000],\n",
              "       [4.83194632e-016, 1.00000000e+000],\n",
              "       [1.00000000e+000, 1.33007058e-015],\n",
              "       [1.59360519e-016, 1.00000000e+000],\n",
              "       [9.98342293e-001, 1.65770693e-003],\n",
              "       [1.70774762e-013, 1.00000000e+000],\n",
              "       [6.10632602e-016, 1.00000000e+000],\n",
              "       [1.04900493e-012, 1.00000000e+000],\n",
              "       [1.78920401e-012, 1.00000000e+000],\n",
              "       [1.05839799e-006, 9.99998942e-001],\n",
              "       [4.43182133e-014, 1.00000000e+000],\n",
              "       [2.65329958e-015, 1.00000000e+000],\n",
              "       [4.39375345e-007, 9.99999561e-001],\n",
              "       [7.59319322e-011, 1.00000000e+000],\n",
              "       [9.60213607e-014, 1.00000000e+000],\n",
              "       [6.08709406e-011, 1.00000000e+000],\n",
              "       [3.02385168e-016, 1.00000000e+000],\n",
              "       [1.00000000e+000, 2.29001982e-028],\n",
              "       [1.00000000e+000, 8.89936639e-051],\n",
              "       [4.26701484e-017, 1.00000000e+000],\n",
              "       [2.24771400e-015, 1.00000000e+000],\n",
              "       [2.97260904e-013, 1.00000000e+000],\n",
              "       [1.00000000e+000, 2.99373059e-029],\n",
              "       [1.00000000e+000, 1.50340861e-107],\n",
              "       [2.12641150e-013, 1.00000000e+000],\n",
              "       [1.00000000e+000, 5.21488223e-092],\n",
              "       [1.52326111e-005, 9.99984767e-001],\n",
              "       [9.91243460e-001, 8.75654047e-003],\n",
              "       [6.78987745e-012, 1.00000000e+000],\n",
              "       [1.15269238e-014, 1.00000000e+000],\n",
              "       [5.07662779e-013, 1.00000000e+000],\n",
              "       [1.30395662e-009, 9.99999999e-001],\n",
              "       [1.00000000e+000, 1.72255078e-135],\n",
              "       [1.16597293e-013, 1.00000000e+000],\n",
              "       [1.00000000e+000, 4.81268756e-098],\n",
              "       [1.00000000e+000, 2.36681553e-204],\n",
              "       [4.17546227e-012, 1.00000000e+000],\n",
              "       [1.00000000e+000, 1.83303621e-040],\n",
              "       [1.86639248e-009, 9.99999998e-001],\n",
              "       [6.13922770e-008, 9.99999939e-001],\n",
              "       [1.00000000e+000, 7.67556667e-049],\n",
              "       [2.08100624e-002, 9.79189938e-001],\n",
              "       [1.00000000e+000, 1.34711556e-011],\n",
              "       [1.10587410e-014, 1.00000000e+000],\n",
              "       [2.89903773e-019, 1.00000000e+000],\n",
              "       [1.00000000e+000, 1.23615609e-058],\n",
              "       [1.73442099e-015, 1.00000000e+000],\n",
              "       [6.87230825e-011, 1.00000000e+000],\n",
              "       [3.55888050e-015, 1.00000000e+000],\n",
              "       [5.08036007e-016, 1.00000000e+000],\n",
              "       [3.35395720e-015, 1.00000000e+000],\n",
              "       [6.50363686e-016, 1.00000000e+000],\n",
              "       [9.83812074e-001, 1.61879262e-002],\n",
              "       [3.22571435e-013, 1.00000000e+000],\n",
              "       [1.00000000e+000, 1.12819445e-019],\n",
              "       [3.41361778e-007, 9.99999659e-001],\n",
              "       [9.01139751e-002, 9.09886025e-001],\n",
              "       [1.00000000e+000, 9.25049902e-050],\n",
              "       [6.89538188e-010, 9.99999999e-001],\n",
              "       [8.35636714e-013, 1.00000000e+000],\n",
              "       [1.76966514e-012, 1.00000000e+000],\n",
              "       [8.04174386e-001, 1.95825614e-001],\n",
              "       [1.00000000e+000, 1.15234376e-031],\n",
              "       [9.99999997e-001, 2.61779603e-009],\n",
              "       [7.25635858e-013, 1.00000000e+000],\n",
              "       [3.79118802e-017, 1.00000000e+000],\n",
              "       [1.27798329e-016, 1.00000000e+000],\n",
              "       [1.90069626e-019, 1.00000000e+000],\n",
              "       [1.00000000e+000, 2.24630705e-072],\n",
              "       [1.00000000e+000, 3.61413923e-062],\n",
              "       [3.89457330e-013, 1.00000000e+000],\n",
              "       [9.99999997e-001, 2.53237860e-009],\n",
              "       [5.09651818e-014, 1.00000000e+000],\n",
              "       [1.00000000e+000, 5.76981626e-018],\n",
              "       [1.00000000e+000, 9.32678365e-015],\n",
              "       [1.00000000e+000, 1.92163089e-036],\n",
              "       [5.77711033e-011, 1.00000000e+000],\n",
              "       [1.25513500e-015, 1.00000000e+000],\n",
              "       [1.00000000e+000, 3.72665692e-076],\n",
              "       [8.11289450e-001, 1.88710550e-001],\n",
              "       [1.00000000e+000, 9.24289325e-103],\n",
              "       [1.04270982e-012, 1.00000000e+000],\n",
              "       [1.28730119e-017, 1.00000000e+000],\n",
              "       [1.77353896e-013, 1.00000000e+000],\n",
              "       [1.01296147e-009, 9.99999999e-001],\n",
              "       [1.87381374e-017, 1.00000000e+000],\n",
              "       [9.62325952e-015, 1.00000000e+000],\n",
              "       [1.00000000e+000, 4.43953288e-150],\n",
              "       [9.41469283e-002, 9.05853072e-001],\n",
              "       [1.00000000e+000, 1.28082971e-010],\n",
              "       [1.00000000e+000, 1.75077796e-039],\n",
              "       [7.09081509e-011, 1.00000000e+000],\n",
              "       [2.05274925e-012, 1.00000000e+000],\n",
              "       [2.37790883e-016, 1.00000000e+000],\n",
              "       [1.58890888e-017, 1.00000000e+000],\n",
              "       [2.22829384e-004, 9.99777171e-001],\n",
              "       [2.96110227e-014, 1.00000000e+000],\n",
              "       [1.00000000e+000, 1.13361207e-030],\n",
              "       [1.00000000e+000, 3.15499908e-020],\n",
              "       [1.90257921e-015, 1.00000000e+000],\n",
              "       [1.11344565e-004, 9.99888655e-001],\n",
              "       [6.88988170e-014, 1.00000000e+000],\n",
              "       [3.36313946e-002, 9.66368605e-001],\n",
              "       [9.11528723e-001, 8.84712771e-002],\n",
              "       [1.00000000e+000, 3.34437173e-049],\n",
              "       [1.56556146e-006, 9.99998434e-001],\n",
              "       [2.57333784e-005, 9.99974267e-001],\n",
              "       [1.26764882e-015, 1.00000000e+000],\n",
              "       [1.00000000e+000, 5.65544275e-074],\n",
              "       [9.93450427e-003, 9.90065496e-001],\n",
              "       [2.03480459e-012, 1.00000000e+000],\n",
              "       [1.75197453e-014, 1.00000000e+000],\n",
              "       [1.07270281e-018, 1.00000000e+000],\n",
              "       [7.29844284e-017, 1.00000000e+000],\n",
              "       [1.00000000e+000, 1.13131572e-020],\n",
              "       [1.57973091e-012, 1.00000000e+000],\n",
              "       [1.00000000e+000, 4.17603188e-029],\n",
              "       [1.57592384e-013, 1.00000000e+000],\n",
              "       [4.38490299e-016, 1.00000000e+000],\n",
              "       [1.00000000e+000, 2.58622500e-046],\n",
              "       [2.15117759e-007, 9.99999785e-001],\n",
              "       [1.00000000e+000, 2.87905542e-012],\n",
              "       [4.47245875e-015, 1.00000000e+000],\n",
              "       [9.99718817e-017, 1.00000000e+000],\n",
              "       [1.00000000e+000, 4.78089015e-014],\n",
              "       [3.39289112e-010, 1.00000000e+000],\n",
              "       [1.00000000e+000, 3.47999528e-054],\n",
              "       [1.00000000e+000, 1.74346436e-160],\n",
              "       [1.05688809e-014, 1.00000000e+000],\n",
              "       [1.66087394e-014, 1.00000000e+000],\n",
              "       [9.39860010e-003, 9.90601400e-001],\n",
              "       [1.00000000e+000, 1.00593118e-012],\n",
              "       [2.21774466e-016, 1.00000000e+000],\n",
              "       [1.00000000e+000, 1.99868898e-191],\n",
              "       [4.68516760e-005, 9.99953148e-001],\n",
              "       [2.48739613e-015, 1.00000000e+000],\n",
              "       [7.78220818e-012, 1.00000000e+000],\n",
              "       [3.69631407e-019, 1.00000000e+000],\n",
              "       [8.30233175e-007, 9.99999170e-001],\n",
              "       [1.00000000e+000, 5.95167680e-048],\n",
              "       [2.01349147e-016, 1.00000000e+000],\n",
              "       [2.15471725e-017, 1.00000000e+000],\n",
              "       [9.44147076e-019, 1.00000000e+000],\n",
              "       [1.00000000e+000, 3.77720118e-030],\n",
              "       [1.00000000e+000, 2.43658471e-062],\n",
              "       [1.00000000e+000, 2.68433921e-056],\n",
              "       [1.00000000e+000, 2.83691558e-090],\n",
              "       [1.00000000e+000, 1.21306481e-020],\n",
              "       [1.18566428e-008, 9.99999988e-001],\n",
              "       [5.33854241e-011, 1.00000000e+000],\n",
              "       [2.98685186e-015, 1.00000000e+000],\n",
              "       [8.12940711e-004, 9.99187059e-001],\n",
              "       [1.66083805e-015, 1.00000000e+000],\n",
              "       [2.20772859e-017, 1.00000000e+000],\n",
              "       [2.78394170e-014, 1.00000000e+000],\n",
              "       [1.93112666e-015, 1.00000000e+000],\n",
              "       [1.31231375e-015, 1.00000000e+000],\n",
              "       [4.80944788e-015, 1.00000000e+000],\n",
              "       [1.46779781e-017, 1.00000000e+000],\n",
              "       [9.99999992e-001, 7.81850225e-009],\n",
              "       [3.07801195e-012, 1.00000000e+000],\n",
              "       [3.19449097e-014, 1.00000000e+000],\n",
              "       [7.63529860e-016, 1.00000000e+000],\n",
              "       [1.00000000e+000, 5.40320828e-041],\n",
              "       [1.03291144e-014, 1.00000000e+000],\n",
              "       [4.53752032e-009, 9.99999995e-001],\n",
              "       [1.00000000e+000, 1.35114544e-097],\n",
              "       [1.00000000e+000, 9.53902698e-039],\n",
              "       [2.69513352e-014, 1.00000000e+000],\n",
              "       [2.16965471e-019, 1.00000000e+000],\n",
              "       [9.20577257e-017, 1.00000000e+000],\n",
              "       [6.71274246e-007, 9.99999329e-001],\n",
              "       [9.21410056e-001, 7.85899436e-002],\n",
              "       [9.99893358e-001, 1.06641552e-004],\n",
              "       [1.89670915e-011, 1.00000000e+000],\n",
              "       [5.12591932e-011, 1.00000000e+000],\n",
              "       [3.04059842e-002, 9.69594016e-001],\n",
              "       [1.48453270e-009, 9.99999999e-001],\n",
              "       [1.30014398e-004, 9.99869986e-001],\n",
              "       [1.00000000e+000, 8.85662988e-027],\n",
              "       [1.83092758e-017, 1.00000000e+000],\n",
              "       [4.69644782e-013, 1.00000000e+000],\n",
              "       [1.00000000e+000, 4.24810879e-069],\n",
              "       [1.00000000e+000, 2.09629622e-013],\n",
              "       [1.00000000e+000, 9.63562032e-076],\n",
              "       [1.07027816e-015, 1.00000000e+000],\n",
              "       [1.00000000e+000, 2.34208536e-039],\n",
              "       [1.00000000e+000, 7.19902868e-014],\n",
              "       [4.72816040e-013, 1.00000000e+000],\n",
              "       [2.23639709e-013, 1.00000000e+000],\n",
              "       [8.38156453e-002, 9.16184355e-001],\n",
              "       [3.95609710e-006, 9.99996044e-001],\n",
              "       [9.99999995e-001, 4.89226582e-009],\n",
              "       [4.93539560e-017, 1.00000000e+000],\n",
              "       [1.00000000e+000, 7.55325127e-017],\n",
              "       [8.12053674e-016, 1.00000000e+000],\n",
              "       [6.51951079e-013, 1.00000000e+000],\n",
              "       [1.09170103e-012, 1.00000000e+000],\n",
              "       [1.22064698e-004, 9.99877935e-001],\n",
              "       [1.00000000e+000, 9.40721627e-058],\n",
              "       [1.00000000e+000, 1.44816685e-079],\n",
              "       [5.18472082e-025, 1.00000000e+000],\n",
              "       [1.04144433e-001, 8.95855567e-001],\n",
              "       [9.03871575e-010, 9.99999999e-001],\n",
              "       [7.80439844e-014, 1.00000000e+000],\n",
              "       [1.16994796e-016, 1.00000000e+000],\n",
              "       [8.74256650e-011, 1.00000000e+000],\n",
              "       [1.00000000e+000, 8.98426664e-027],\n",
              "       [1.03356380e-002, 9.89664362e-001],\n",
              "       [9.08135251e-001, 9.18647492e-002],\n",
              "       [6.37771566e-018, 1.00000000e+000],\n",
              "       [9.95597814e-001, 4.40218596e-003],\n",
              "       [1.37135308e-013, 1.00000000e+000],\n",
              "       [1.49794906e-013, 1.00000000e+000],\n",
              "       [1.00000000e+000, 2.10629979e-085],\n",
              "       [1.42816705e-002, 9.85718329e-001],\n",
              "       [3.97504056e-003, 9.96024959e-001],\n",
              "       [1.71474304e-011, 1.00000000e+000],\n",
              "       [1.28175953e-011, 1.00000000e+000],\n",
              "       [1.80092516e-014, 1.00000000e+000],\n",
              "       [2.92827982e-011, 1.00000000e+000],\n",
              "       [1.00000000e+000, 3.04351091e-029],\n",
              "       [1.00000000e+000, 6.44251593e-028],\n",
              "       [1.00000000e+000, 1.97017726e-101],\n",
              "       [3.31510258e-011, 1.00000000e+000],\n",
              "       [9.41037948e-018, 1.00000000e+000],\n",
              "       [1.49051985e-005, 9.99985095e-001],\n",
              "       [3.20898088e-013, 1.00000000e+000],\n",
              "       [1.00000000e+000, 1.71289371e-041],\n",
              "       [6.92923515e-014, 1.00000000e+000],\n",
              "       [1.00000000e+000, 1.55944536e-126],\n",
              "       [1.00000000e+000, 8.44355231e-065],\n",
              "       [9.99999997e-001, 2.88306809e-009],\n",
              "       [3.82392538e-010, 1.00000000e+000],\n",
              "       [9.99999999e-001, 6.14875864e-010],\n",
              "       [3.40989989e-015, 1.00000000e+000],\n",
              "       [1.00000000e+000, 1.16956277e-037],\n",
              "       [4.19047013e-015, 1.00000000e+000],\n",
              "       [1.00000000e+000, 5.33341603e-089],\n",
              "       [1.00000000e+000, 7.70554662e-056],\n",
              "       [9.43847249e-011, 1.00000000e+000],\n",
              "       [6.72393342e-006, 9.99993276e-001],\n",
              "       [2.71860805e-016, 1.00000000e+000],\n",
              "       [9.99999853e-001, 1.47115046e-007],\n",
              "       [1.08700465e-011, 1.00000000e+000],\n",
              "       [1.53020716e-014, 1.00000000e+000],\n",
              "       [2.41862848e-016, 1.00000000e+000],\n",
              "       [8.45304116e-010, 9.99999999e-001],\n",
              "       [9.98901010e-001, 1.09898989e-003],\n",
              "       [6.03483180e-010, 9.99999999e-001],\n",
              "       [1.00000000e+000, 4.24064654e-169],\n",
              "       [1.00000000e+000, 9.92249466e-046],\n",
              "       [1.00000000e+000, 1.89576025e-052],\n",
              "       [3.94449876e-016, 1.00000000e+000],\n",
              "       [1.00000000e+000, 5.45542125e-041],\n",
              "       [1.51932067e-017, 1.00000000e+000],\n",
              "       [1.00000000e+000, 2.30982140e-025],\n",
              "       [1.00000000e+000, 4.20481703e-055],\n",
              "       [2.62703854e-017, 1.00000000e+000],\n",
              "       [1.42427949e-018, 1.00000000e+000],\n",
              "       [1.00000000e+000, 1.68815797e-028],\n",
              "       [6.75222959e-013, 1.00000000e+000],\n",
              "       [4.71197984e-001, 5.28802016e-001],\n",
              "       [9.62707005e-001, 3.72929952e-002],\n",
              "       [2.05577720e-008, 9.99999979e-001],\n",
              "       [1.00000000e+000, 6.63594843e-049],\n",
              "       [1.00000000e+000, 2.86215587e-015],\n",
              "       [8.35975971e-019, 1.00000000e+000],\n",
              "       [8.95189571e-013, 1.00000000e+000],\n",
              "       [1.00000000e+000, 1.55018832e-021],\n",
              "       [7.28761994e-014, 1.00000000e+000],\n",
              "       [1.00000000e+000, 1.08703360e-014],\n",
              "       [7.99047963e-005, 9.99920095e-001],\n",
              "       [8.10826311e-004, 9.99189174e-001],\n",
              "       [3.55149653e-015, 1.00000000e+000],\n",
              "       [1.33753986e-009, 9.99999999e-001],\n",
              "       [1.00000000e+000, 5.13577373e-019],\n",
              "       [9.03990403e-007, 9.99999096e-001],\n",
              "       [4.98321920e-016, 1.00000000e+000],\n",
              "       [3.03105497e-011, 1.00000000e+000],\n",
              "       [3.34163635e-015, 1.00000000e+000],\n",
              "       [1.00000000e+000, 1.56522627e-202],\n",
              "       [3.25221559e-004, 9.99674778e-001],\n",
              "       [1.00000000e+000, 4.82356897e-051],\n",
              "       [1.94119483e-004, 9.99805881e-001],\n",
              "       [3.86925197e-015, 1.00000000e+000],\n",
              "       [8.75125872e-005, 9.99912487e-001],\n",
              "       [2.57079639e-011, 1.00000000e+000],\n",
              "       [8.92252135e-004, 9.99107748e-001],\n",
              "       [5.64102863e-018, 1.00000000e+000],\n",
              "       [2.83915520e-012, 1.00000000e+000],\n",
              "       [1.00000000e+000, 1.74314176e-019],\n",
              "       [9.99909604e-001, 9.03955315e-005],\n",
              "       [9.99965876e-001, 3.41240062e-005],\n",
              "       [9.99999995e-001, 5.04784079e-009],\n",
              "       [1.31763254e-012, 1.00000000e+000],\n",
              "       [1.00000000e+000, 1.87191859e-050],\n",
              "       [1.19240531e-012, 1.00000000e+000],\n",
              "       [5.49277985e-016, 1.00000000e+000],\n",
              "       [2.45013935e-017, 1.00000000e+000],\n",
              "       [4.58202826e-019, 1.00000000e+000],\n",
              "       [5.70344182e-017, 1.00000000e+000],\n",
              "       [1.08592737e-006, 9.99998914e-001],\n",
              "       [1.00000000e+000, 2.63040680e-015],\n",
              "       [1.26043284e-016, 1.00000000e+000],\n",
              "       [1.00000000e+000, 4.11992711e-035],\n",
              "       [1.00000000e+000, 4.92938593e-014],\n",
              "       [1.08101775e-011, 1.00000000e+000],\n",
              "       [5.55360195e-013, 1.00000000e+000],\n",
              "       [3.39678867e-012, 1.00000000e+000],\n",
              "       [1.00000000e+000, 5.75043287e-023],\n",
              "       [8.55430845e-016, 1.00000000e+000],\n",
              "       [1.00000000e+000, 4.36834469e-037],\n",
              "       [5.05754357e-013, 1.00000000e+000],\n",
              "       [1.00000000e+000, 3.36404645e-211],\n",
              "       [1.00000000e+000, 1.05333782e-020],\n",
              "       [1.00000000e+000, 6.79945949e-015],\n",
              "       [4.96280271e-016, 1.00000000e+000],\n",
              "       [1.00000000e+000, 3.77207744e-123],\n",
              "       [1.44189531e-014, 1.00000000e+000],\n",
              "       [1.11331986e-015, 1.00000000e+000],\n",
              "       [1.00000000e+000, 1.74619793e-067],\n",
              "       [1.20928256e-010, 1.00000000e+000],\n",
              "       [9.99999413e-001, 5.87026750e-007],\n",
              "       [1.00000000e+000, 1.32303729e-032],\n",
              "       [4.33360996e-014, 1.00000000e+000],\n",
              "       [2.19977855e-011, 1.00000000e+000],\n",
              "       [5.72666256e-015, 1.00000000e+000],\n",
              "       [1.00000000e+000, 1.96628384e-013],\n",
              "       [4.47006939e-004, 9.99552993e-001],\n",
              "       [1.00000000e+000, 2.54567154e-010],\n",
              "       [3.11992917e-016, 1.00000000e+000],\n",
              "       [6.54476639e-016, 1.00000000e+000],\n",
              "       [1.26187577e-008, 9.99999987e-001],\n",
              "       [3.58243606e-015, 1.00000000e+000],\n",
              "       [9.99998947e-001, 1.05281644e-006],\n",
              "       [2.01885333e-018, 1.00000000e+000],\n",
              "       [1.78261041e-012, 1.00000000e+000],\n",
              "       [1.00000000e+000, 3.65004830e-071],\n",
              "       [1.00000000e+000, 5.20530016e-029],\n",
              "       [2.56119227e-006, 9.99997439e-001],\n",
              "       [8.35245140e-014, 1.00000000e+000],\n",
              "       [2.68023656e-012, 1.00000000e+000],\n",
              "       [1.00000000e+000, 2.09352818e-051],\n",
              "       [9.99999996e-001, 4.23015732e-009],\n",
              "       [4.38556144e-002, 9.56144386e-001],\n",
              "       [6.53251394e-007, 9.99999347e-001],\n",
              "       [1.93129706e-011, 1.00000000e+000],\n",
              "       [9.99997952e-001, 2.04785347e-006],\n",
              "       [6.78263444e-002, 9.32173656e-001],\n",
              "       [5.86803430e-003, 9.94131966e-001],\n",
              "       [1.00000000e+000, 7.28515983e-042],\n",
              "       [2.78385989e-013, 1.00000000e+000],\n",
              "       [3.69021840e-011, 1.00000000e+000],\n",
              "       [1.26208552e-013, 1.00000000e+000],\n",
              "       [5.23654608e-009, 9.99999995e-001],\n",
              "       [2.52991309e-011, 1.00000000e+000],\n",
              "       [3.14987403e-015, 1.00000000e+000],\n",
              "       [1.00000000e+000, 1.15709103e-012],\n",
              "       [2.61824592e-005, 9.99973818e-001],\n",
              "       [1.00000000e+000, 2.23319381e-046],\n",
              "       [1.00000000e+000, 1.83532070e-030],\n",
              "       [3.36472788e-016, 1.00000000e+000]])"
            ]
          },
          "metadata": {
            "tags": []
          },
          "execution_count": 45
        }
      ]
    },
    {
      "cell_type": "code",
      "metadata": {
        "id": "VpZA-bjiQ_tj",
        "colab": {
          "base_uri": "https://localhost:8080/",
          "height": 34
        },
        "outputId": "af836490-c16f-44fb-e0cd-2340f6709cd8"
      },
      "source": [
        "gnb = GaussianNB()\n",
        "\n",
        "# Fitting the model with the data\n",
        "gnb.fit(X_train, y_train)"
      ],
      "execution_count": null,
      "outputs": [
        {
          "output_type": "execute_result",
          "data": {
            "text/plain": [
              "GaussianNB(priors=None, var_smoothing=1e-09)"
            ]
          },
          "metadata": {
            "tags": []
          },
          "execution_count": 46
        }
      ]
    },
    {
      "cell_type": "markdown",
      "metadata": {
        "id": "rMFl22-JRGYw"
      },
      "source": [
        "Testing the model on the testing set:"
      ]
    },
    {
      "cell_type": "code",
      "metadata": {
        "id": "SPN2o7qBRD7j",
        "colab": {
          "base_uri": "https://localhost:8080/",
          "height": 101
        },
        "outputId": "215e1e62-dbea-47a1-ff83-90738ff6ce69"
      },
      "source": [
        "y_pred = model.predict(X_test)\n",
        "print(y_pred)"
      ],
      "execution_count": null,
      "outputs": [
        {
          "output_type": "stream",
          "text": [
            "[0 1 1 1 1 0 1 1 0 1 1 1 0 1 1 1 0 1 1 1 0 1 1 1 1 1 1 0 1 0 0 0 1 0 1 1 0\n",
            " 1 1 0 1 1 1 0 1 1 0 0 1 0 1 1 1 1 1 0 0 0 1 0 0 0 1 1 1 1 1 1 1 0 1 0 1 1\n",
            " 1 1 0 1 0 0 0 1 0 0 0 1 0 1 0 0 0 0 1 1 0 0 1 1 1 1 1 0 1 1 0 0 1 0 1 1 1\n",
            " 0 0 0 1 1 0 1 0 1 1 1 0 1 0 1 0 1 0 0 1 1 1 1 1 0 1 1 1 1 1 1 1 0 1 1 1 0\n",
            " 1 1 1 0 1 1 1 0 1 1 0 1 1 1 1 1 0 0 1 1 1 1 1]\n"
          ],
          "name": "stdout"
        }
      ]
    },
    {
      "cell_type": "code",
      "metadata": {
        "id": "Bnr5IfAlRIit",
        "colab": {
          "base_uri": "https://localhost:8080/",
          "height": 338
        },
        "outputId": "b06a7cb2-2f48-4319-d453-06a8ab9df61f"
      },
      "source": [
        "print(\"accuracy of the predictions:\", metrics.accuracy_score(y_test, y_pred))\n",
        "print(\"blanced accuracy of the predictions:\", metrics.balanced_accuracy_score(y_test, y_pred))\n",
        "print(\"Confusion matrix of the predictions:\", metrics.confusion_matrix(y_test, y_pred))"
      ],
      "execution_count": null,
      "outputs": [
        {
          "output_type": "error",
          "ename": "ValueError",
          "evalue": "ignored",
          "traceback": [
            "\u001b[0;31m---------------------------------------------------------------------------\u001b[0m",
            "\u001b[0;31mValueError\u001b[0m                                Traceback (most recent call last)",
            "\u001b[0;32m<ipython-input-32-e0f72bec6cfe>\u001b[0m in \u001b[0;36m<module>\u001b[0;34m()\u001b[0m\n\u001b[0;32m----> 1\u001b[0;31m \u001b[0mprint\u001b[0m\u001b[0;34m(\u001b[0m\u001b[0;34m\"accuracy of the predictions:\"\u001b[0m\u001b[0;34m,\u001b[0m \u001b[0mmetrics\u001b[0m\u001b[0;34m.\u001b[0m\u001b[0maccuracy_score\u001b[0m\u001b[0;34m(\u001b[0m\u001b[0my_test\u001b[0m\u001b[0;34m,\u001b[0m \u001b[0my_pred\u001b[0m\u001b[0;34m)\u001b[0m\u001b[0;34m)\u001b[0m\u001b[0;34m\u001b[0m\u001b[0;34m\u001b[0m\u001b[0m\n\u001b[0m\u001b[1;32m      2\u001b[0m \u001b[0mprint\u001b[0m\u001b[0;34m(\u001b[0m\u001b[0;34m\"blanced accuracy of the predictions:\"\u001b[0m\u001b[0;34m,\u001b[0m \u001b[0mmetrics\u001b[0m\u001b[0;34m.\u001b[0m\u001b[0mbalanced_accuracy_score\u001b[0m\u001b[0;34m(\u001b[0m\u001b[0my_test\u001b[0m\u001b[0;34m,\u001b[0m \u001b[0my_pred\u001b[0m\u001b[0;34m)\u001b[0m\u001b[0;34m)\u001b[0m\u001b[0;34m\u001b[0m\u001b[0;34m\u001b[0m\u001b[0m\n\u001b[1;32m      3\u001b[0m \u001b[0mprint\u001b[0m\u001b[0;34m(\u001b[0m\u001b[0;34m\"Confusion matrix of the predictions:\"\u001b[0m\u001b[0;34m,\u001b[0m \u001b[0mmetrics\u001b[0m\u001b[0;34m.\u001b[0m\u001b[0mconfusion_matrix\u001b[0m\u001b[0;34m(\u001b[0m\u001b[0my_test\u001b[0m\u001b[0;34m,\u001b[0m \u001b[0my_pred\u001b[0m\u001b[0;34m)\u001b[0m\u001b[0;34m)\u001b[0m\u001b[0;34m\u001b[0m\u001b[0;34m\u001b[0m\u001b[0m\n",
            "\u001b[0;32m/usr/local/lib/python3.6/dist-packages/sklearn/metrics/_classification.py\u001b[0m in \u001b[0;36maccuracy_score\u001b[0;34m(y_true, y_pred, normalize, sample_weight)\u001b[0m\n\u001b[1;32m    183\u001b[0m \u001b[0;34m\u001b[0m\u001b[0m\n\u001b[1;32m    184\u001b[0m     \u001b[0;31m# Compute accuracy for each possible representation\u001b[0m\u001b[0;34m\u001b[0m\u001b[0;34m\u001b[0m\u001b[0;34m\u001b[0m\u001b[0m\n\u001b[0;32m--> 185\u001b[0;31m     \u001b[0my_type\u001b[0m\u001b[0;34m,\u001b[0m \u001b[0my_true\u001b[0m\u001b[0;34m,\u001b[0m \u001b[0my_pred\u001b[0m \u001b[0;34m=\u001b[0m \u001b[0m_check_targets\u001b[0m\u001b[0;34m(\u001b[0m\u001b[0my_true\u001b[0m\u001b[0;34m,\u001b[0m \u001b[0my_pred\u001b[0m\u001b[0;34m)\u001b[0m\u001b[0;34m\u001b[0m\u001b[0;34m\u001b[0m\u001b[0m\n\u001b[0m\u001b[1;32m    186\u001b[0m     \u001b[0mcheck_consistent_length\u001b[0m\u001b[0;34m(\u001b[0m\u001b[0my_true\u001b[0m\u001b[0;34m,\u001b[0m \u001b[0my_pred\u001b[0m\u001b[0;34m,\u001b[0m \u001b[0msample_weight\u001b[0m\u001b[0;34m)\u001b[0m\u001b[0;34m\u001b[0m\u001b[0;34m\u001b[0m\u001b[0m\n\u001b[1;32m    187\u001b[0m     \u001b[0;32mif\u001b[0m \u001b[0my_type\u001b[0m\u001b[0;34m.\u001b[0m\u001b[0mstartswith\u001b[0m\u001b[0;34m(\u001b[0m\u001b[0;34m'multilabel'\u001b[0m\u001b[0;34m)\u001b[0m\u001b[0;34m:\u001b[0m\u001b[0;34m\u001b[0m\u001b[0;34m\u001b[0m\u001b[0m\n",
            "\u001b[0;32m/usr/local/lib/python3.6/dist-packages/sklearn/metrics/_classification.py\u001b[0m in \u001b[0;36m_check_targets\u001b[0;34m(y_true, y_pred)\u001b[0m\n\u001b[1;32m     78\u001b[0m     \u001b[0my_pred\u001b[0m \u001b[0;34m:\u001b[0m \u001b[0marray\u001b[0m \u001b[0;32mor\u001b[0m \u001b[0mindicator\u001b[0m \u001b[0mmatrix\u001b[0m\u001b[0;34m\u001b[0m\u001b[0;34m\u001b[0m\u001b[0m\n\u001b[1;32m     79\u001b[0m     \"\"\"\n\u001b[0;32m---> 80\u001b[0;31m     \u001b[0mcheck_consistent_length\u001b[0m\u001b[0;34m(\u001b[0m\u001b[0my_true\u001b[0m\u001b[0;34m,\u001b[0m \u001b[0my_pred\u001b[0m\u001b[0;34m)\u001b[0m\u001b[0;34m\u001b[0m\u001b[0;34m\u001b[0m\u001b[0m\n\u001b[0m\u001b[1;32m     81\u001b[0m     \u001b[0mtype_true\u001b[0m \u001b[0;34m=\u001b[0m \u001b[0mtype_of_target\u001b[0m\u001b[0;34m(\u001b[0m\u001b[0my_true\u001b[0m\u001b[0;34m)\u001b[0m\u001b[0;34m\u001b[0m\u001b[0;34m\u001b[0m\u001b[0m\n\u001b[1;32m     82\u001b[0m     \u001b[0mtype_pred\u001b[0m \u001b[0;34m=\u001b[0m \u001b[0mtype_of_target\u001b[0m\u001b[0;34m(\u001b[0m\u001b[0my_pred\u001b[0m\u001b[0;34m)\u001b[0m\u001b[0;34m\u001b[0m\u001b[0;34m\u001b[0m\u001b[0m\n",
            "\u001b[0;32m/usr/local/lib/python3.6/dist-packages/sklearn/utils/validation.py\u001b[0m in \u001b[0;36mcheck_consistent_length\u001b[0;34m(*arrays)\u001b[0m\n\u001b[1;32m    210\u001b[0m     \u001b[0;32mif\u001b[0m \u001b[0mlen\u001b[0m\u001b[0;34m(\u001b[0m\u001b[0muniques\u001b[0m\u001b[0;34m)\u001b[0m \u001b[0;34m>\u001b[0m \u001b[0;36m1\u001b[0m\u001b[0;34m:\u001b[0m\u001b[0;34m\u001b[0m\u001b[0;34m\u001b[0m\u001b[0m\n\u001b[1;32m    211\u001b[0m         raise ValueError(\"Found input variables with inconsistent numbers of\"\n\u001b[0;32m--> 212\u001b[0;31m                          \" samples: %r\" % [int(l) for l in lengths])\n\u001b[0m\u001b[1;32m    213\u001b[0m \u001b[0;34m\u001b[0m\u001b[0m\n\u001b[1;32m    214\u001b[0m \u001b[0;34m\u001b[0m\u001b[0m\n",
            "\u001b[0;31mValueError\u001b[0m: Found input variables with inconsistent numbers of samples: [171, 45]"
          ]
        }
      ]
    },
    {
      "cell_type": "code",
      "metadata": {
        "id": "tCEf1we6bIcc"
      },
      "source": [
        ""
      ],
      "execution_count": null,
      "outputs": []
    },
    {
      "cell_type": "markdown",
      "metadata": {
        "id": "T18GQ3dArCsh"
      },
      "source": [
        "\n",
        "\n",
        "# Building classification models\n",
        "\n",
        "Among the available classification methods in Python, we focus on the following five to build classification models in our dataset:\n",
        "\n",
        "* Logistic regression\n",
        "* K- nearest neighbour\n",
        "* Naive Bayes\n",
        "* **Random forest**\n"
      ]
    },
    {
      "cell_type": "code",
      "metadata": {
        "id": "5bouEZY6y7kr",
        "colab": {
          "base_uri": "https://localhost:8080/"
        },
        "outputId": "ef106ab3-e518-4782-fd0a-63605478eadc"
      },
      "source": [
        "from sklearn.ensemble import RandomForestClassifier\n",
        "from sklearn.datasets import make_classification\n",
        "RFclf = RandomForestClassifier(max_depth=2, random_state=0)\n",
        "RFclf.fit(X_train, y_train)\n",
        "y_pred = RFclf.predict(X_test)\n",
        "print(RFclf.feature_importances_)"
      ],
      "execution_count": null,
      "outputs": [
        {
          "output_type": "execute_result",
          "data": {
            "text/plain": [
              "RandomForestClassifier(bootstrap=True, ccp_alpha=0.0, class_weight=None,\n",
              "                       criterion='gini', max_depth=2, max_features='auto',\n",
              "                       max_leaf_nodes=None, max_samples=None,\n",
              "                       min_impurity_decrease=0.0, min_impurity_split=None,\n",
              "                       min_samples_leaf=1, min_samples_split=2,\n",
              "                       min_weight_fraction_leaf=0.0, n_estimators=100,\n",
              "                       n_jobs=None, oob_score=False, random_state=0, verbose=0,\n",
              "                       warm_start=False)"
            ]
          },
          "metadata": {
            "tags": []
          },
          "execution_count": 33
        },
        {
          "output_type": "stream",
          "text": [
            "[2.61134680e-02 6.20196786e-03 5.29195292e-02 3.24088651e-02\n",
            " 2.51505715e-03 7.13622453e-03 1.21048293e-01 1.21240816e-01\n",
            " 1.20154589e-04 0.00000000e+00 2.30784094e-02 6.41404185e-04\n",
            " 1.01773234e-02 4.22282316e-02 6.67538894e-04 5.08625485e-04\n",
            " 7.78703637e-04 4.99304976e-03 0.00000000e+00 7.15387018e-04\n",
            " 9.88741537e-02 7.83160317e-04 1.76811900e-01 6.11791769e-02\n",
            " 2.82102932e-03 7.95608781e-03 3.40897270e-02 1.54705703e-01\n",
            " 1.73855070e-03 7.54746262e-03]\n"
          ],
          "name": "stdout"
        }
      ]
    },
    {
      "cell_type": "code",
      "metadata": {
        "id": "7Ef9rOrPzfPX",
        "colab": {
          "base_uri": "https://localhost:8080/"
        },
        "outputId": "1e22dbb1-d55e-415d-f403-df7bc7e628ab"
      },
      "source": [
        "print(\"accuracy of the predictions:\", metrics.accuracy_score(y_test, y_pred))\n",
        "print(\"blanced accuracy of the predictions:\", metrics.balanced_accuracy_score(y_test, y_pred))\n",
        "print(\"Confusion matrix of the predictions:\", metrics.confusion_matrix(y_test, y_pred))\n",
        "print(\"Confusion matrix of the predictions:\\n\", metrics.confusion_matrix(y_test, y_pred))\n"
      ],
      "execution_count": null,
      "outputs": [
        {
          "output_type": "stream",
          "text": [
            "accuracy of the predictions: 0.9707602339181286\n",
            "blanced accuracy of the predictions: 0.9663189269746646\n",
            "Confusion matrix of the predictions: [[ 58   3]\n",
            " [  2 108]]\n",
            "Confusion matrix of the predictions:\n",
            " [[ 58   3]\n",
            " [  2 108]]\n"
          ],
          "name": "stdout"
        }
      ]
    },
    {
      "cell_type": "code",
      "metadata": {
        "id": "bag66EQ7Q-IU",
        "colab": {
          "base_uri": "https://localhost:8080/",
          "height": 398
        },
        "outputId": "5e9c6b41-75ab-4b99-8693-f2db28546c38"
      },
      "source": [
        "print(\"accuracy of the predictions:\", metrics.accuracy_score(y_test, y_pred))\n",
        "print(\"blanced accuracy of the predictions:\", metrics.balanced_accuracy_score(y_test, y_pred))\n",
        "print(\"MCC of the predictions:\", metrics.matthews_corrcoef(y_test, y_pred))\n",
        "print(\"Confusion matrix of the predictions:\", metrics.confusion_matrix(y_test, y_pred))\n",
        "plot_confusion_matrix(y_test, y_pred, classes=[0,1],\n",
        "                      title='Confusion matrix')\n",
        "\n",
        "plt.show()\n"
      ],
      "execution_count": null,
      "outputs": [
        {
          "output_type": "stream",
          "text": [
            "accuracy of the predictions: 0.9532163742690059\n",
            "blanced accuracy of the predictions: 0.9490312965722802\n",
            "MCC of the predictions: 0.8980625931445604\n",
            "Confusion matrix of the predictions: [[ 57   4]\n",
            " [  4 106]]\n"
          ],
          "name": "stdout"
        },
        {
          "output_type": "execute_result",
          "data": {
            "text/plain": [
              "<matplotlib.axes._subplots.AxesSubplot at 0x7f897d75b198>"
            ]
          },
          "metadata": {
            "tags": []
          },
          "execution_count": 50
        },
        {
          "output_type": "display_data",
          "data": {
            "image/png": "[encoded data removed]",
            "text/plain": [
              "<Figure size 432x288 with 2 Axes>"
            ]
          },
          "metadata": {
            "tags": []
          }
        }
      ]
    },
    {
      "cell_type": "code",
      "metadata": {
        "id": "XmIXXn0It6er"
      },
      "source": [
        ""
      ],
      "execution_count": null,
      "outputs": []
    }
  ]
}